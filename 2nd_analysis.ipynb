{
 "cells": [
  {
   "cell_type": "code",
   "execution_count": 1,
   "metadata": {},
   "outputs": [],
   "source": [
    "import pandas as pd\n",
    "import numpy as np\n",
    "\n",
    "train_data = pd.read_excel('./drive-download-20221227T023406Z-001/df_total_raw_train.xlsx')\n",
    "test_data = pd.read_excel('./drive-download-20221227T023406Z-001/df_total_raw_test.xlsx')"
   ]
  },
  {
   "cell_type": "code",
   "execution_count": 2,
   "metadata": {},
   "outputs": [],
   "source": [
    "train_label = train_data.loc[:,'Heat_ON']\n",
    "train_set = list(set(train_label))\n"
   ]
  },
  {
   "cell_type": "code",
   "execution_count": 3,
   "metadata": {},
   "outputs": [
    {
     "name": "stdout",
     "output_type": "stream",
     "text": [
      "Index(['T1_lp1_MIN', 'T1_lp1_MAX', 'T2_hp1_MIN', 'T2_hp1_MAX', 'T3_hp2_MIN',\n",
      "       'T3_hp2_MAX', 'T1_comp in_MIN', 'T1_comp in_MAX', 'T2_comp out_MIN',\n",
      "       'T2_comp out_MAX', 'T3_cond in_MIN', 'T3_cond in_MAX',\n",
      "       'T4_cond out_MIN', 'T4_cond out_MAX', 'T5_Exp in_MIN', 'T5_Exp in_MAX',\n",
      "       'T6_Exp out_MIN', 'T6_Exp out_MAX', 'T7_evap in_MIN', 'T7_evap in_MAX',\n",
      "       'T8_evap out1_MIN', 'T8_evap out1_MAX', 'T8_evap out2_MIN',\n",
      "       'T8_evap out2_MAX', 'T10_sol out_MIN', 'T10_sol out_MAX',\n",
      "       'inside temp_MIN', 'inside temp_MAX', 'center_MIN', 'center_MAX',\n",
      "       'outside temp_MIN', 'outside temp_MAX', 'eva air in temp_MIN',\n",
      "       'eva air in temp_MAX', 'eva air out temp_MIN', 'eva air out temp_MAX',\n",
      "       'cond air in temp_MIN', 'cond air in temp_MAX', 'cond air out temp_MIN',\n",
      "       'T8_1-T7_MIN', 'T8_1-T7_MAX', 'T8_2-T7_MIN', 'T8_2-T7_MAX', 'Heat_ON'],\n",
      "      dtype='object')\n",
      "T1_lp1_MIN\n",
      "T1_lp1_MAX\n",
      "T2_hp1_MIN\n",
      "T2_hp1_MAX\n",
      "T3_hp2_MIN\n",
      "T3_hp2_MAX\n",
      "T1_comp in_MIN\n",
      "T1_comp in_MAX\n",
      "T2_comp out_MIN\n",
      "T2_comp out_MAX\n",
      "T3_cond in_MIN\n",
      "T3_cond in_MAX\n",
      "T4_cond out_MIN\n",
      "T4_cond out_MAX\n",
      "T5_Exp in_MIN\n",
      "T5_Exp in_MAX\n",
      "T6_Exp out_MIN\n",
      "T6_Exp out_MAX\n",
      "T7_evap in_MIN\n",
      "T7_evap in_MAX\n",
      "T8_evap out1_MIN\n",
      "T8_evap out1_MAX\n",
      "T8_evap out2_MIN\n",
      "T8_evap out2_MAX\n",
      "T10_sol out_MIN\n",
      "T10_sol out_MAX\n",
      "inside temp_MIN\n",
      "inside temp_MAX\n",
      "center_MIN\n",
      "center_MAX\n",
      "outside temp_MIN\n",
      "outside temp_MAX\n",
      "eva air in temp_MIN\n",
      "eva air in temp_MAX\n",
      "eva air out temp_MIN\n",
      "eva air out temp_MAX\n",
      "cond air in temp_MIN\n",
      "cond air in temp_MAX\n",
      "cond air out temp_MIN\n",
      "T8_1-T7_MIN\n",
      "T8_1-T7_MAX\n",
      "T8_2-T7_MIN\n",
      "T8_2-T7_MAX\n"
     ]
    }
   ],
   "source": [
    "from tqdm import tqdm\n",
    "\n",
    "train_datas = train_data.iloc[:]\n",
    "print( train_datas.iloc[1].index)\n",
    "\n",
    "for each_index in ['T1_lp1_MIN', 'T1_lp1_MAX', 'T2_hp1_MIN', 'T2_hp1_MAX', 'T3_hp2_MIN',\n",
    "       'T3_hp2_MAX', 'T1_comp in_MIN', 'T1_comp in_MAX', 'T2_comp out_MIN',\n",
    "       'T2_comp out_MAX', 'T3_cond in_MIN', 'T3_cond in_MAX',\n",
    "       'T4_cond out_MIN', 'T4_cond out_MAX', 'T5_Exp in_MIN', 'T5_Exp in_MAX',\n",
    "       'T6_Exp out_MIN', 'T6_Exp out_MAX', 'T7_evap in_MIN', 'T7_evap in_MAX',\n",
    "       'T8_evap out1_MIN', 'T8_evap out1_MAX', 'T8_evap out2_MIN',\n",
    "       'T8_evap out2_MAX', 'T10_sol out_MIN', 'T10_sol out_MAX',\n",
    "       'inside temp_MIN', 'inside temp_MAX', 'center_MIN', 'center_MAX',\n",
    "       'outside temp_MIN', 'outside temp_MAX', 'eva air in temp_MIN',\n",
    "       'eva air in temp_MAX', 'eva air out temp_MIN', 'eva air out temp_MAX',\n",
    "       'cond air in temp_MIN', 'cond air in temp_MAX', 'cond air out temp_MIN',\n",
    "       'T8_1-T7_MIN', 'T8_1-T7_MAX', 'T8_2-T7_MIN', 'T8_2-T7_MAX'] :\n",
    "    print(each_index)\n",
    "    data_over = train_data[(train_data[each_index] == '+OVER')].index\n",
    "    train_data.drop(data_over, inplace=True)\n",
    "    data_over2 = train_data[(train_data[each_index] == '-OVER')].index\n",
    "    train_data.drop(data_over2, inplace=True)\n",
    "\n",
    "for each_index2 in ['T1_lp1_MIN', 'T1_lp1_MAX', 'T2_hp1_MIN', 'T2_hp1_MAX', 'T3_hp2_MIN',\n",
    "       'T3_hp2_MAX', 'T1_comp in_MIN', 'T1_comp in_MAX', 'T2_comp out_MIN',\n",
    "       'T2_comp out_MAX', 'T3_cond in_MIN', 'T3_cond in_MAX',\n",
    "       'T4_cond out_MIN', 'T4_cond out_MAX', 'T5_Exp in_MIN', 'T5_Exp in_MAX',\n",
    "       'T6_Exp out_MIN', 'T6_Exp out_MAX', 'T7_evap in_MIN', 'T7_evap in_MAX',\n",
    "       'T8_evap out1_MIN', 'T8_evap out1_MAX', 'T8_evap out2_MIN',\n",
    "       'T8_evap out2_MAX', 'T10_sol out_MIN', 'T10_sol out_MAX',\n",
    "       'inside temp_MIN', 'inside temp_MAX', 'center_MIN', 'center_MAX',\n",
    "       'outside temp_MIN', 'outside temp_MAX', 'eva air in temp_MIN',\n",
    "       'eva air in temp_MAX', 'eva air out temp_MIN', 'eva air out temp_MAX',\n",
    "       'cond air in temp_MIN', 'cond air in temp_MAX', 'cond air out temp_MIN',\n",
    "       'T8_1-T7_MIN', 'T8_1-T7_MAX', 'T8_2-T7_MIN', 'T8_2-T7_MAX'] :\n",
    "    \n",
    "    data_over3 = test_data[(test_data[each_index2] == '+OVER')].index\n",
    "    test_data.drop(data_over3, inplace=True)\n",
    "    data_over4 = test_data[(test_data[each_index2] == '-OVER')].index\n",
    "    test_data.drop(data_over4, inplace=True)\n",
    "\n",
    "# train_over = train_data[(train_data['eva air out temp_MAX']=='+OVER') | (train_data['eva air out temp_MAX']=='-OVER')].index\n",
    "# train_data.drop(train_over, inplace=True)\n",
    "# train_over2 = train_data[(train_data['eva air out temp_MIN']=='+OVER') | (train_data['eva air out temp_MIN']=='-OVER')].index\n",
    "# train_data.drop(train_over2, inplace=True)\n",
    "\n",
    "# test_over = test_data[(test_data['eva air out temp_MAX']=='+OVER') | (test_data['eva air out temp_MAX']=='-OVER')].index\n",
    "# test_data.drop(test_over, inplace=True)\n",
    "# test_over2 = test_data[(test_data['eva air out temp_MIN']=='+OVER') | (test_data['eva air out temp_MIN']=='-OVER')].index\n",
    "# test_data.drop(test_over2, inplace=True)\n",
    "# test_over3 = test_data[(test_data['outside temp_MAX']=='+OVER')].index\n",
    "# test_data.drop(test_over3, inplace=True)\n",
    "# print('Off' in list(train_datas.iloc[1]))\n",
    "\n",
    "# for a in tqdm(range(len(train_datas))) :\n",
    "#     data = list(train_datas.iloc[a])\n",
    "    \n",
    "#     if '+OVER' in data or '-OVER' in data :\n",
    "\n",
    "        "
   ]
  },
  {
   "cell_type": "code",
   "execution_count": 15,
   "metadata": {},
   "outputs": [
    {
     "name": "stdout",
     "output_type": "stream",
     "text": [
      "Low(80%)\n",
      "3933\n",
      "Off\n",
      "37758\n",
      "Low(70%)\n",
      "3034\n",
      "Low(60%)\n",
      "909\n",
      "On\n",
      "44332\n",
      "Low(90%)\n",
      "404\n"
     ]
    }
   ],
   "source": [
    "\n",
    "for i in train_set :\n",
    "    count = list(train_label).count(i)\n",
    "    print(i)\n",
    "    print(count)"
   ]
  },
  {
   "cell_type": "code",
   "execution_count": 33,
   "metadata": {},
   "outputs": [
    {
     "name": "stdout",
     "output_type": "stream",
     "text": [
      "Low(80%)\n",
      "3933\n",
      "Off\n",
      "34428\n",
      "Low(70%)\n",
      "3034\n",
      "Low(60%)\n",
      "909\n",
      "On\n",
      "44332\n",
      "Low(90%)\n",
      "404\n"
     ]
    }
   ],
   "source": [
    "train_label = train_data.loc[:,'Heat_ON']\n",
    "train_set = list(set(train_label))\n",
    "for i in train_set :\n",
    "    count = list(train_label).count(i)\n",
    "    print(i)\n",
    "    print(count)"
   ]
  },
  {
   "cell_type": "code",
   "execution_count": 4,
   "metadata": {},
   "outputs": [],
   "source": [
    "train_label_60 = train_data.loc[(train_data['Heat_ON'] == 'Low(60%)')]\n",
    "train_label_70 = train_data.loc[(train_data['Heat_ON'] == 'Low(70%)')]\n",
    "train_label_80 = train_data.loc[(train_data['Heat_ON'] == 'Low(80%)')]\n",
    "train_label_90 = train_data.loc[(train_data['Heat_ON'] == 'Low(90%)')]\n",
    "train_label_on = train_data.loc[(train_data['Heat_ON'] == 'On')]\n",
    "train_label_off = train_data.loc[(train_data['Heat_ON'] == 'Off')]"
   ]
  },
  {
   "cell_type": "code",
   "execution_count": 5,
   "metadata": {},
   "outputs": [
    {
     "name": "stdout",
     "output_type": "stream",
     "text": [
      "909\n",
      "3034\n",
      "3933\n",
      "404\n",
      "44332\n",
      "34428\n"
     ]
    }
   ],
   "source": [
    "print(len(train_label_60))\n",
    "print(len(train_label_70))\n",
    "print(len(train_label_80))\n",
    "print(len(train_label_90))\n",
    "print(len(train_label_on))\n",
    "print(len(train_label_off))"
   ]
  },
  {
   "cell_type": "code",
   "execution_count": 6,
   "metadata": {},
   "outputs": [],
   "source": [
    "train_lablel_60 = train_label_60.sample(n=404)\n",
    "train_lablel_70 = train_label_70.sample(n=404)\n",
    "train_lablel_80 = train_label_80.sample(n=404)\n",
    "train_lablel_on = train_label_on.sample(n=404)\n",
    "train_lablel_off = train_label_off.sample(n=404)"
   ]
  },
  {
   "cell_type": "code",
   "execution_count": 49,
   "metadata": {},
   "outputs": [
    {
     "name": "stdout",
     "output_type": "stream",
     "text": [
      "404\n",
      "404\n",
      "404\n",
      "404\n",
      "404\n",
      "404\n"
     ]
    }
   ],
   "source": [
    "print(len(train_lablel_60))\n",
    "print(len(train_lablel_70))\n",
    "print(len(train_lablel_80))\n",
    "print(len(train_label_90))\n",
    "print(len(train_lablel_on))\n",
    "print(len(train_lablel_off))"
   ]
  },
  {
   "cell_type": "code",
   "execution_count": 7,
   "metadata": {},
   "outputs": [],
   "source": [
    "sampled_train_data = pd.concat([train_lablel_60, train_lablel_70, train_lablel_80, train_label_90, train_lablel_on, train_lablel_off])"
   ]
  },
  {
   "cell_type": "code",
   "execution_count": 8,
   "metadata": {},
   "outputs": [],
   "source": [
    "sampled_train_label_60 = sampled_train_data.loc[(sampled_train_data['Heat_ON'] == 'Low(60%)')]\n",
    "sampled_train_label_70 = sampled_train_data.loc[(sampled_train_data['Heat_ON'] == 'Low(70%)')]\n",
    "sampled_train_label_80 = sampled_train_data.loc[(sampled_train_data['Heat_ON'] == 'Low(80%)')]\n",
    "sampled_train_label_90 = sampled_train_data.loc[(sampled_train_data['Heat_ON'] == 'Low(90%)')]\n",
    "sampled_train_label_on = sampled_train_data.loc[(sampled_train_data['Heat_ON'] == 'On')]\n",
    "sampled_train_label_off = sampled_train_data.loc[(sampled_train_data['Heat_ON'] == 'Off')]"
   ]
  },
  {
   "cell_type": "code",
   "execution_count": 9,
   "metadata": {},
   "outputs": [
    {
     "name": "stdout",
     "output_type": "stream",
     "text": [
      "404\n",
      "404\n",
      "404\n",
      "404\n",
      "404\n",
      "404\n"
     ]
    }
   ],
   "source": [
    "print(len(sampled_train_label_60))\n",
    "print(len(sampled_train_label_70))\n",
    "print(len(sampled_train_label_80))\n",
    "print(len(sampled_train_label_90))\n",
    "print(len(sampled_train_label_on))\n",
    "print(len(sampled_train_label_off))"
   ]
  },
  {
   "cell_type": "code",
   "execution_count": 10,
   "metadata": {},
   "outputs": [
    {
     "name": "stdout",
     "output_type": "stream",
     "text": [
      "404\n"
     ]
    }
   ],
   "source": [
    "print(len(sampled_train_data.loc[(sampled_train_data['Heat_ON'] == 'Low(60%)')]))"
   ]
  },
  {
   "cell_type": "code",
   "execution_count": 11,
   "metadata": {},
   "outputs": [],
   "source": [
    "sampled_train_data.to_csv('./test.csv')"
   ]
  },
  {
   "cell_type": "code",
   "execution_count": 12,
   "metadata": {},
   "outputs": [],
   "source": [
    "train_data_X = sampled_train_data.iloc[:, :-1]\n",
    "train_data_y = sampled_train_data.iloc[:, -1]\n",
    "\n",
    "test_data_X = test_data.iloc[:, :-1]\n",
    "test_data_y = test_data.iloc[:, -1]"
   ]
  },
  {
   "cell_type": "code",
   "execution_count": 77,
   "metadata": {},
   "outputs": [
    {
     "data": {
      "text/plain": [
       "RandomForestClassifier()"
      ]
     },
     "execution_count": 77,
     "metadata": {},
     "output_type": "execute_result"
    }
   ],
   "source": [
    "from sklearn.ensemble import RandomForestClassifier\n",
    "import numpy as np\n",
    "import matplotlib.pyplot as plt\n",
    "\n",
    "forest = RandomForestClassifier()\n",
    "forest.fit(train_data_X, train_data_y)\n"
   ]
  },
  {
   "cell_type": "code",
   "execution_count": 62,
   "metadata": {},
   "outputs": [
    {
     "name": "stdout",
     "output_type": "stream",
     "text": [
      "Feature ranking\n",
      "1. feature eva air out temp_MAX (0.079)\n",
      "2. feature T3_cond in_MAX (0.053)\n",
      "3. feature T3_cond in_MIN (0.052)\n",
      "4. feature T1_comp in_MAX (0.044)\n",
      "5. feature inside temp_MIN (0.044)\n",
      "6. feature eva air in temp_MIN (0.042)\n",
      "7. feature center_MAX (0.036)\n",
      "8. feature T5_Exp in_MAX (0.036)\n",
      "9. feature eva air in temp_MAX (0.036)\n",
      "10. feature T8_evap out1_MAX (0.035)\n",
      "11. feature T1_comp in_MIN (0.035)\n",
      "12. feature T5_Exp in_MIN (0.034)\n",
      "13. feature inside temp_MAX (0.034)\n",
      "14. feature T2_comp out_MAX (0.031)\n",
      "15. feature center_MIN (0.030)\n",
      "16. feature T6_Exp out_MAX (0.029)\n",
      "17. feature T8_evap out1_MIN (0.028)\n",
      "18. feature T1_lp1_MIN (0.026)\n",
      "19. feature T2_comp out_MIN (0.026)\n",
      "20. feature T6_Exp out_MIN (0.026)\n",
      "21. feature eva air out temp_MIN (0.025)\n",
      "22. feature T1_lp1_MAX (0.019)\n",
      "23. feature T8_2-T7_MIN (0.018)\n",
      "24. feature cond air out temp_MIN (0.016)\n",
      "25. feature T7_evap in_MAX (0.015)\n",
      "26. feature T7_evap in_MIN (0.014)\n",
      "27. feature T8_1-T7_MIN (0.013)\n",
      "28. feature outside temp_MAX (0.012)\n",
      "29. feature T8_1-T7_MAX (0.012)\n",
      "30. feature cond air in temp_MAX (0.012)\n",
      "31. feature outside temp_MIN (0.011)\n",
      "32. feature T8_2-T7_MAX (0.011)\n",
      "33. feature T10_sol out_MAX (0.009)\n",
      "34. feature cond air in temp_MIN (0.009)\n",
      "35. feature T10_sol out_MIN (0.008)\n",
      "36. feature T8_evap out2_MIN (0.008)\n",
      "37. feature T2_hp1_MIN (0.006)\n",
      "38. feature T3_hp2_MIN (0.005)\n",
      "39. feature T4_cond out_MAX (0.005)\n",
      "40. feature T3_hp2_MAX (0.005)\n",
      "41. feature T8_evap out2_MAX (0.004)\n",
      "42. feature T2_hp1_MAX (0.004)\n",
      "43. feature T4_cond out_MIN (0.003)\n"
     ]
    },
    {
     "data": {
      "image/png": "[encoded data removed]",
      "text/plain": [
       "<Figure size 432x288 with 1 Axes>"
      ]
     },
     "metadata": {
      "needs_background": "light"
     },
     "output_type": "display_data"
    }
   ],
   "source": [
    "importance = forest.feature_importances_\n",
    "std = np.std([tree.feature_importances_ for tree in forest.estimators_], axis=0)\n",
    "indices = np.argsort(importance)[::-1]\n",
    "\n",
    "print(\"Feature ranking\")\n",
    "\n",
    "for f in range(train_data_X.shape[1]) :\n",
    "    print(\"{}. feature {} ({:.3f})\".format(f+1, train_data_X.columns[indices][f], importance[indices[f]]))\n",
    "    \n",
    "plt.figure()\n",
    "plt.title(\"Feature importance\")\n",
    "plt.bar(range(train_data_X.shape[1]), importance[indices], color='r', align='center')\n",
    "plt.xticks(range(train_data_X.shape[1]), train_data_X.columns[indices], rotation=45)\n",
    "plt.xlim([-1, train_data_X.shape[1]])\n",
    "plt.show()"
   ]
  },
  {
   "cell_type": "code",
   "execution_count": 78,
   "metadata": {},
   "outputs": [
    {
     "name": "stdout",
     "output_type": "stream",
     "text": [
      "0.995202\n"
     ]
    }
   ],
   "source": [
    "from sklearn.metrics import accuracy_score\n",
    "\n",
    "pred = forest.predict(test_data_X)\n",
    "accuracy = accuracy_score(test_data_y, pred)\n",
    "print('{:4f}'.format(accuracy))"
   ]
  },
  {
   "cell_type": "code",
   "execution_count": 79,
   "metadata": {},
   "outputs": [
    {
     "name": "stdout",
     "output_type": "stream",
     "text": [
      "Fitting estimator with 43 features.\n",
      "Fitting estimator with 42 features.\n",
      "Fitting estimator with 41 features.\n",
      "Fitting estimator with 40 features.\n",
      "Fitting estimator with 39 features.\n",
      "Fitting estimator with 38 features.\n",
      "Fitting estimator with 37 features.\n",
      "Fitting estimator with 36 features.\n",
      "Fitting estimator with 35 features.\n",
      "Fitting estimator with 34 features.\n",
      "Fitting estimator with 33 features.\n",
      "Fitting estimator with 32 features.\n",
      "Fitting estimator with 31 features.\n",
      "Fitting estimator with 30 features.\n",
      "Fitting estimator with 29 features.\n",
      "Fitting estimator with 28 features.\n",
      "Fitting estimator with 27 features.\n",
      "Fitting estimator with 26 features.\n",
      "Fitting estimator with 25 features.\n",
      "Fitting estimator with 24 features.\n",
      "Fitting estimator with 23 features.\n",
      "Fitting estimator with 22 features.\n",
      "Fitting estimator with 21 features.\n",
      "Fitting estimator with 20 features.\n",
      "Fitting estimator with 19 features.\n",
      "Fitting estimator with 18 features.\n",
      "Fitting estimator with 17 features.\n",
      "Fitting estimator with 16 features.\n",
      "Fitting estimator with 15 features.\n",
      "Fitting estimator with 14 features.\n",
      "Fitting estimator with 13 features.\n",
      "Fitting estimator with 12 features.\n",
      "Fitting estimator with 11 features.\n",
      "Fitting estimator with 10 features.\n",
      "Fitting estimator with 9 features.\n",
      "Fitting estimator with 8 features.\n",
      "Fitting estimator with 7 features.\n",
      "Fitting estimator with 6 features.\n",
      "Fitting estimator with 5 features.\n",
      "Fitting estimator with 4 features.\n",
      "Fitting estimator with 3 features.\n",
      "Fitting estimator with 2 features.\n",
      "Fitting estimator with 43 features.\n",
      "Fitting estimator with 42 features.\n",
      "Fitting estimator with 41 features.\n",
      "Fitting estimator with 40 features.\n",
      "Fitting estimator with 39 features.\n",
      "Fitting estimator with 38 features.\n",
      "Fitting estimator with 37 features.\n",
      "Fitting estimator with 36 features.\n",
      "Fitting estimator with 35 features.\n",
      "Fitting estimator with 34 features.\n",
      "Fitting estimator with 33 features.\n",
      "Fitting estimator with 32 features.\n",
      "Fitting estimator with 31 features.\n",
      "Fitting estimator with 30 features.\n",
      "Fitting estimator with 29 features.\n",
      "Fitting estimator with 28 features.\n",
      "Fitting estimator with 27 features.\n",
      "Fitting estimator with 26 features.\n",
      "Fitting estimator with 25 features.\n",
      "Fitting estimator with 24 features.\n",
      "Fitting estimator with 23 features.\n",
      "Fitting estimator with 22 features.\n",
      "Fitting estimator with 21 features.\n",
      "Fitting estimator with 20 features.\n",
      "Fitting estimator with 19 features.\n",
      "Fitting estimator with 18 features.\n",
      "Fitting estimator with 17 features.\n",
      "Fitting estimator with 16 features.\n",
      "Fitting estimator with 15 features.\n",
      "Fitting estimator with 14 features.\n",
      "Fitting estimator with 13 features.\n",
      "Fitting estimator with 12 features.\n",
      "Fitting estimator with 11 features.\n",
      "Fitting estimator with 10 features.\n",
      "Fitting estimator with 9 features.\n",
      "Fitting estimator with 8 features.\n",
      "Fitting estimator with 7 features.\n",
      "Fitting estimator with 6 features.\n",
      "Fitting estimator with 5 features.\n",
      "Fitting estimator with 4 features.\n",
      "Fitting estimator with 3 features.\n",
      "Fitting estimator with 2 features.\n",
      "Fitting estimator with 43 features.\n",
      "Fitting estimator with 42 features.\n",
      "Fitting estimator with 41 features.\n",
      "Fitting estimator with 40 features.\n",
      "Fitting estimator with 39 features.\n",
      "Fitting estimator with 38 features.\n",
      "Fitting estimator with 37 features.\n",
      "Fitting estimator with 36 features.\n",
      "Fitting estimator with 35 features.\n",
      "Fitting estimator with 34 features.\n",
      "Fitting estimator with 33 features.\n",
      "Fitting estimator with 32 features.\n",
      "Fitting estimator with 31 features.\n",
      "Fitting estimator with 30 features.\n",
      "Fitting estimator with 29 features.\n",
      "Fitting estimator with 28 features.\n",
      "Fitting estimator with 27 features.\n",
      "Fitting estimator with 26 features.\n",
      "Fitting estimator with 25 features.\n",
      "Fitting estimator with 24 features.\n",
      "Fitting estimator with 23 features.\n",
      "Fitting estimator with 22 features.\n",
      "Fitting estimator with 21 features.\n",
      "Fitting estimator with 20 features.\n",
      "Fitting estimator with 19 features.\n",
      "Fitting estimator with 18 features.\n",
      "Fitting estimator with 17 features.\n",
      "Fitting estimator with 16 features.\n",
      "Fitting estimator with 15 features.\n",
      "Fitting estimator with 14 features.\n",
      "Fitting estimator with 13 features.\n",
      "Fitting estimator with 12 features.\n",
      "Fitting estimator with 11 features.\n",
      "Fitting estimator with 10 features.\n",
      "Fitting estimator with 9 features.\n",
      "Fitting estimator with 8 features.\n",
      "Fitting estimator with 7 features.\n",
      "Fitting estimator with 6 features.\n",
      "Fitting estimator with 5 features.\n",
      "Fitting estimator with 4 features.\n",
      "Fitting estimator with 3 features.\n",
      "Fitting estimator with 2 features.\n",
      "Fitting estimator with 43 features.\n",
      "Fitting estimator with 42 features.\n",
      "Fitting estimator with 41 features.\n",
      "Fitting estimator with 40 features.\n",
      "Fitting estimator with 39 features.\n",
      "Fitting estimator with 38 features.\n",
      "Fitting estimator with 37 features.\n",
      "Fitting estimator with 36 features.\n",
      "Fitting estimator with 35 features.\n",
      "Fitting estimator with 34 features.\n",
      "Fitting estimator with 33 features.\n",
      "Fitting estimator with 32 features.\n",
      "Fitting estimator with 31 features.\n",
      "Fitting estimator with 30 features.\n",
      "Fitting estimator with 29 features.\n",
      "Fitting estimator with 28 features.\n",
      "Fitting estimator with 27 features.\n",
      "Fitting estimator with 26 features.\n",
      "Fitting estimator with 25 features.\n",
      "Fitting estimator with 24 features.\n",
      "Fitting estimator with 23 features.\n",
      "Fitting estimator with 22 features.\n",
      "Fitting estimator with 21 features.\n",
      "Fitting estimator with 20 features.\n",
      "Fitting estimator with 19 features.\n",
      "Fitting estimator with 18 features.\n",
      "Fitting estimator with 17 features.\n",
      "Fitting estimator with 16 features.\n",
      "Fitting estimator with 15 features.\n",
      "Fitting estimator with 14 features.\n",
      "Fitting estimator with 13 features.\n",
      "Fitting estimator with 12 features.\n",
      "Fitting estimator with 11 features.\n",
      "Fitting estimator with 10 features.\n",
      "Fitting estimator with 9 features.\n",
      "Fitting estimator with 8 features.\n",
      "Fitting estimator with 7 features.\n",
      "Fitting estimator with 6 features.\n",
      "Fitting estimator with 5 features.\n",
      "Fitting estimator with 4 features.\n",
      "Fitting estimator with 3 features.\n",
      "Fitting estimator with 2 features.\n",
      "Fitting estimator with 43 features.\n",
      "Fitting estimator with 42 features.\n",
      "Fitting estimator with 41 features.\n",
      "Fitting estimator with 40 features.\n",
      "Fitting estimator with 39 features.\n",
      "Fitting estimator with 38 features.\n",
      "Fitting estimator with 37 features.\n",
      "Fitting estimator with 36 features.\n",
      "Fitting estimator with 35 features.\n",
      "Fitting estimator with 34 features.\n",
      "Fitting estimator with 33 features.\n",
      "Fitting estimator with 32 features.\n",
      "Fitting estimator with 31 features.\n",
      "Fitting estimator with 30 features.\n",
      "Fitting estimator with 29 features.\n",
      "Fitting estimator with 28 features.\n",
      "Fitting estimator with 27 features.\n",
      "Fitting estimator with 26 features.\n",
      "Fitting estimator with 25 features.\n",
      "Fitting estimator with 24 features.\n",
      "Fitting estimator with 23 features.\n",
      "Fitting estimator with 22 features.\n",
      "Fitting estimator with 21 features.\n",
      "Fitting estimator with 20 features.\n",
      "Fitting estimator with 19 features.\n",
      "Fitting estimator with 18 features.\n",
      "Fitting estimator with 17 features.\n",
      "Fitting estimator with 16 features.\n",
      "Fitting estimator with 15 features.\n",
      "Fitting estimator with 14 features.\n",
      "Fitting estimator with 13 features.\n",
      "Fitting estimator with 12 features.\n",
      "Fitting estimator with 11 features.\n",
      "Fitting estimator with 10 features.\n",
      "Fitting estimator with 9 features.\n",
      "Fitting estimator with 8 features.\n",
      "Fitting estimator with 7 features.\n",
      "Fitting estimator with 6 features.\n",
      "Fitting estimator with 5 features.\n",
      "Fitting estimator with 4 features.\n",
      "Fitting estimator with 3 features.\n",
      "Fitting estimator with 2 features.\n",
      "Fitting estimator with 43 features.\n",
      "Fitting estimator with 42 features.\n",
      "Fitting estimator with 41 features.\n",
      "Fitting estimator with 40 features.\n",
      "Fitting estimator with 39 features.\n",
      "Fitting estimator with 38 features.\n",
      "Fitting estimator with 37 features.\n",
      "Fitting estimator with 36 features.\n",
      "Fitting estimator with 35 features.\n",
      "Fitting estimator with 34 features.\n",
      "Fitting estimator with 33 features.\n",
      "Fitting estimator with 32 features.\n",
      "Fitting estimator with 31 features.\n",
      "Fitting estimator with 30 features.\n",
      "Fitting estimator with 29 features.\n",
      "Fitting estimator with 28 features.\n",
      "Fitting estimator with 27 features.\n",
      "Fitting estimator with 26 features.\n",
      "Fitting estimator with 25 features.\n"
     ]
    },
    {
     "name": "stdout",
     "output_type": "stream",
     "text": [
      "Fitting estimator with 24 features.\n",
      "Fitting estimator with 23 features.\n",
      "Fitting estimator with 22 features.\n"
     ]
    },
    {
     "data": {
      "text/plain": [
       "RFECV(cv=5, estimator=RandomForestClassifier(), scoring='accuracy', verbose=2)"
      ]
     },
     "execution_count": 79,
     "metadata": {},
     "output_type": "execute_result"
    }
   ],
   "source": [
    "# feature selection\n",
    "from sklearn.feature_selection import RFECV, RFE\n",
    "\n",
    "forest2 = RandomForestClassifier()\n",
    "rfecv = RFECV(estimator=forest2, step=1, cv=5, scoring='accuracy', verbose=2)\n",
    "rfecv.fit(train_data_X, train_data_y)"
   ]
  },
  {
   "cell_type": "code",
   "execution_count": 80,
   "metadata": {},
   "outputs": [
    {
     "name": "stdout",
     "output_type": "stream",
     "text": [
      "21\n",
      "optimial number of features : 21\n"
     ]
    },
    {
     "data": {
      "text/plain": [
       "[<matplotlib.lines.Line2D at 0x2432c53dfd0>]"
      ]
     },
     "execution_count": 80,
     "metadata": {},
     "output_type": "execute_result"
    },
    {
     "data": {
      "image/png": "[encoded data removed]",
      "text/plain": [
       "<Figure size 432x288 with 1 Axes>"
      ]
     },
     "metadata": {
      "needs_background": "light"
     },
     "output_type": "display_data"
    }
   ],
   "source": [
    "print(rfecv.support_.sum())\n",
    "\n",
    "print('optimial number of features : %d' % rfecv.n_features_)\n",
    "\n",
    "plt.figure()\n",
    "plt.xlabel(\"number of features selected\")\n",
    "plt.ylabel(\"cross validation score (accuracy)\")\n",
    "plt.plot(\n",
    "range(1, len(rfecv.grid_scores_)*1 + 1, 1), rfecv.grid_scores_,\n",
    ")"
   ]
  },
  {
   "cell_type": "code",
   "execution_count": 81,
   "metadata": {},
   "outputs": [
    {
     "name": "stdout",
     "output_type": "stream",
     "text": [
      "all_features :  43\n",
      "['T1_lp1_MIN' 'T1_lp1_MAX' 'T2_hp1_MIN' 'T2_hp1_MAX' 'T3_hp2_MIN'\n",
      " 'T3_hp2_MAX' 'T1_comp in_MIN' 'T1_comp in_MAX' 'T2_comp out_MIN'\n",
      " 'T2_comp out_MAX' 'T3_cond in_MIN' 'T3_cond in_MAX' 'T4_cond out_MIN'\n",
      " 'T4_cond out_MAX' 'T5_Exp in_MIN' 'T5_Exp in_MAX' 'T6_Exp out_MIN'\n",
      " 'T6_Exp out_MAX' 'T7_evap in_MIN' 'T7_evap in_MAX' 'T8_evap out1_MIN'\n",
      " 'T8_evap out1_MAX' 'T8_evap out2_MIN' 'T8_evap out2_MAX'\n",
      " 'T10_sol out_MIN' 'T10_sol out_MAX' 'inside temp_MIN' 'inside temp_MAX'\n",
      " 'center_MIN' 'center_MAX' 'outside temp_MIN' 'outside temp_MAX'\n",
      " 'eva air in temp_MIN' 'eva air in temp_MAX' 'eva air out temp_MIN'\n",
      " 'eva air out temp_MAX' 'cond air in temp_MIN' 'cond air in temp_MAX'\n",
      " 'cond air out temp_MIN' 'T8_1-T7_MIN' 'T8_1-T7_MAX' 'T8_2-T7_MIN'\n",
      " 'T8_2-T7_MAX']\n",
      "\n",
      "Selected best :  21\n",
      "['T1_lp1_MIN' 'T1_lp1_MAX' 'T1_comp in_MIN' 'T1_comp in_MAX'\n",
      " 'T2_comp out_MIN' 'T2_comp out_MAX' 'T3_cond in_MIN' 'T3_cond in_MAX'\n",
      " 'T5_Exp in_MIN' 'T5_Exp in_MAX' 'T6_Exp out_MAX' 'T8_evap out1_MIN'\n",
      " 'T8_evap out1_MAX' 'T10_sol out_MIN' 'inside temp_MIN' 'inside temp_MAX'\n",
      " 'center_MIN' 'eva air in temp_MIN' 'eva air in temp_MAX'\n",
      " 'eva air out temp_MAX' 'cond air out temp_MIN']\n"
     ]
    }
   ],
   "source": [
    "mask = rfecv.get_support()\n",
    "features = np.array(train_data_X.columns)\n",
    "best_features = features[mask]\n",
    "\n",
    "print('all_features : ', train_data_X.shape[1])\n",
    "print(features)\n",
    "print()\n",
    "print('Selected best : ', best_features.shape[0])\n",
    "print(features[mask])"
   ]
  },
  {
   "cell_type": "code",
   "execution_count": 83,
   "metadata": {},
   "outputs": [
    {
     "name": "stdout",
     "output_type": "stream",
     "text": [
      "0.995228\n"
     ]
    }
   ],
   "source": [
    "# SELECTTION rbf 커널 사용\n",
    "sfor_X_com = train_data_X.loc[:,['T1_lp1_MIN', 'T1_lp1_MAX', 'T1_comp in_MIN', 'T1_comp in_MAX',\n",
    " 'T2_comp out_MIN', 'T2_comp out_MAX', 'T3_cond in_MIN', 'T3_cond in_MAX',\n",
    " 'T5_Exp in_MIN', 'T5_Exp in_MAX', 'T6_Exp out_MAX', 'T8_evap out1_MIN',\n",
    " 'T8_evap out1_MAX','T10_sol out_MIN', 'inside temp_MIN', 'inside temp_MAX',\n",
    " 'center_MIN', 'eva air in temp_MIN', 'eva air in temp_MAX',\n",
    " 'eva air out temp_MAX', 'cond air out temp_MIN']]\n",
    "sfor_x_com= test_data_X.loc[:,['T1_lp1_MIN', 'T1_lp1_MAX', 'T1_comp in_MIN', 'T1_comp in_MAX',\n",
    " 'T2_comp out_MIN', 'T2_comp out_MAX', 'T3_cond in_MIN', 'T3_cond in_MAX',\n",
    " 'T5_Exp in_MIN', 'T5_Exp in_MAX', 'T6_Exp'T1_lp1_MIN', 'T1_lp1_MAX', 'T1_comp in_MIN', 'T1_comp in_MAX',\n",
    " 'T2_comp out_MIN', 'T2_comp out_MAX', 'T3_cond in_MIN', 'T3_cond in_MAX',\n",
    " 'T5_Exp in_MIN', 'T5_Exp in_MAX', 'T6_Exp out_MAX', 'T8_evap out1_MIN',\n",
    " 'T8_evap out1_MAX','T10_sol out_MIN', 'inside temp_MIN', 'inside temp_MAX',\n",
    " 'center_MIN', 'eva air in temp_MIN', 'eva air in temp_MAX',\n",
    " 'eva air out temp_MAX', 'cond air out temp_MIN' out_MAX', 'T8_evap out1_MIN',\n",
    " 'T8_evap out1_MAX','T10_sol out_MIN', 'inside temp_MIN', 'inside temp_MAX',\n",
    " 'center_MIN', 'eva air in temp_MIN', 'eva air in temp_MAX',\n",
    " 'eva air out temp_MAX', 'cond air out temp_MIN']]\n",
    "selected_for = RandomForestClassifier()\n",
    "selected_for.fit(sfor_X_com , train_data_y)\n",
    "pred_for_for = selected_for.predict(sfor_x_com)\n",
    "for_acc= accuracy_score(test_data_y, pred_for_for)\n",
    "print('{:4f}'.format(for_acc))"
   ]
  },
  {
   "cell_type": "code",
   "execution_count": 84,
   "metadata": {},
   "outputs": [
    {
     "name": "stdout",
     "output_type": "stream",
     "text": [
      "0.944966\n"
     ]
    }
   ],
   "source": [
    "#회사에서 언급한 것들 학습 후 결과 rbf 커널 사용\n",
    "sfor_X_com = train_data_X.loc[:,['T7_evap in_MIN', 'T7_evap in_MAX', 'T8_evap out1_MIN', 'T8_evap out1_MAX', \n",
    "                                 'T8_evap out2_MIN', 'T8_evap out2_MAX', 'inside temp_MIN', 'inside temp_MAX']]\n",
    "sfor_x_com= test_data_X.loc[:,['T7_evap in_MIN', 'T7_evap in_MAX', 'T8_evap out1_MIN', 'T8_evap out1_MAX', \n",
    "                                 'T8_evap out2_MIN', 'T8_evap out2_MAX', 'inside temp_MIN', 'inside temp_MAX']]\n",
    "selected_for = RandomForestClassifier()\n",
    "selected_for.fit(sfor_X_com , train_data_y)\n",
    "pred_for_for = selected_for.predict(sfor_x_com)\n",
    "for_acc= accuracy_score(test_data_y, pred_for_for)\n",
    "print('{:4f}'.format(for_acc))"
   ]
  },
  {
   "cell_type": "code",
   "execution_count": 85,
   "metadata": {},
   "outputs": [
    {
     "name": "stdout",
     "output_type": "stream",
     "text": [
      "0.946440\n"
     ]
    }
   ],
   "source": [
    "#회사에서 언급한 것들 + 입출구 차 학습 후 결과 rbf 커널 사용\n",
    "sfor_X_com = train_data_X.loc[:,['T7_evap in_MIN', 'T7_evap in_MAX', 'T8_evap out1_MIN', 'T8_evap out1_MAX', \n",
    "                                 'T8_evap out2_MIN', 'T8_evap out2_MAX', 'inside temp_MIN', 'inside temp_MAX',\n",
    "                                 'T8_1-T7_MIN', 'T8_1-T7_MAX', 'T8_2-T7_MIN', 'T8_2-T7_MAX']]\n",
    "sfor_x_com= test_data_X.loc[:,['T7_evap in_MIN', 'T7_evap in_MAX', 'T8_evap out1_MIN', 'T8_evap out1_MAX', \n",
    "                                 'T8_evap out2_MIN', 'T8_evap out2_MAX', 'inside temp_MIN', 'inside temp_MAX'\n",
    "                              , 'T8_1-T7_MIN', 'T8_1-T7_MAX', 'T8_2-T7_MIN', 'T8_2-T7_MAX']]\n",
    "selected_for = RandomForestClassifier()\n",
    "selected_for.fit(sfor_X_com , train_data_y)\n",
    "pred_for_for = selected_for.predict(sfor_x_com)\n",
    "for_acc= accuracy_score(test_data_y, pred_for_for)\n",
    "print('{:4f}'.format(for_acc))"
   ]
  },
  {
   "cell_type": "code",
   "execution_count": 86,
   "metadata": {},
   "outputs": [
    {
     "name": "stdout",
     "output_type": "stream",
     "text": [
      "0.926335\n"
     ]
    }
   ],
   "source": [
    "#=입출구 차 , 고내온도, 학습 후 결과 rbf 커널 사용\n",
    "sfor_X_com = train_data_X.loc[:,['inside temp_MIN', 'inside temp_MAX',\n",
    "                                 'T8_1-T7_MIN', 'T8_1-T7_MAX', 'T8_2-T7_MIN', 'T8_2-T7_MAX']]\n",
    "sfor_x_com= test_data_X.loc[:,['inside temp_MIN', 'inside temp_MAX'\n",
    "                              , 'T8_1-T7_MIN', 'T8_1-T7_MAX', 'T8_2-T7_MIN', 'T8_2-T7_MAX']]\n",
    "selected_for = RandomForestClassifier()\n",
    "selected_for.fit(sfor_X_com , train_data_y)\n",
    "pred_for_for = selected_for.predict(sfor_x_com)\n",
    "for_acc= accuracy_score(test_data_y, pred_for_for)\n",
    "print('{:4f}'.format(for_acc))"
   ]
  },
  {
   "cell_type": "code",
   "execution_count": 87,
   "metadata": {},
   "outputs": [
    {
     "name": "stdout",
     "output_type": "stream",
     "text": [
      "0.943518\n"
     ]
    }
   ],
   "source": [
    "#회사에서 언급한 것들 학습 후 결과(센서 1번) rbf 커널 사용\n",
    "sfor_X_com = train_data_X.loc[:,['T7_evap in_MIN', 'T7_evap in_MAX', 'T8_evap out1_MIN', 'T8_evap out1_MAX', \n",
    "                                 'inside temp_MIN', 'inside temp_MAX',\n",
    "                                 'T8_1-T7_MIN', 'T8_1-T7_MAX',]]\n",
    "sfor_x_com= test_data_X.loc[:,['T7_evap in_MIN', 'T7_evap in_MAX', 'T8_evap out1_MIN', 'T8_evap out1_MAX', \n",
    "                               'inside temp_MIN', 'inside temp_MAX',\n",
    "                                 'T8_1-T7_MIN', 'T8_1-T7_MAX', ]]\n",
    "selected_for = RandomForestClassifier()\n",
    "selected_for.fit(sfor_X_com , train_data_y)\n",
    "pred_for_for = selected_for.predict(sfor_x_com)\n",
    "for_acc= accuracy_score(test_data_y, pred_for_for)\n",
    "print('{:4f}'.format(for_acc))"
   ]
  },
  {
   "cell_type": "code",
   "execution_count": 88,
   "metadata": {},
   "outputs": [
    {
     "name": "stdout",
     "output_type": "stream",
     "text": [
      "0.928319\n"
     ]
    }
   ],
   "source": [
    "#회사에서 언급한 것들 + 입출구 차 학습 후 결과(센서 2번) rbf 커널 사용\n",
    "sfor_X_com = train_data_X.loc[:,['T7_evap in_MIN', 'T7_evap in_MAX', \n",
    "                                 'T8_evap out2_MIN', 'T8_evap out2_MAX', 'inside temp_MIN', 'inside temp_MAX',\n",
    "                                'T8_2-T7_MIN', 'T8_2-T7_MAX']]\n",
    "sfor_x_com= test_data_X.loc[:,['T7_evap in_MIN', 'T7_evap in_MAX',\n",
    "                                 'T8_evap out2_MIN', 'T8_evap out2_MAX', 'inside temp_MIN', 'inside temp_MAX',\n",
    "                               'T8_2-T7_MIN', 'T8_2-T7_MAX']]\n",
    "selected_for = RandomForestClassifier()\n",
    "selected_for.fit(sfor_X_com , train_data_y)\n",
    "pred_for_for = selected_for.predict(sfor_x_com)\n",
    "for_acc= accuracy_score(test_data_y, pred_for_for)\n",
    "print('{:4f}'.format(for_acc))"
   ]
  },
  {
   "cell_type": "code",
   "execution_count": 89,
   "metadata": {},
   "outputs": [
    {
     "name": "stdout",
     "output_type": "stream",
     "text": [
      "0.706948\n"
     ]
    }
   ],
   "source": [
    "#회사에서 언급한 것들 + 입출구 차 학습 후 결과 rbf 커널 사용\n",
    "sfor_X_com = train_data_X.loc[:,['T7_evap in_MIN', 'T7_evap in_MAX']]\n",
    "sfor_x_com= test_data_X.loc[:,['T7_evap in_MIN', 'T7_evap in_MAX']]\n",
    "selected_for = RandomForestClassifier()\n",
    "selected_for.fit(sfor_X_com , train_data_y)\n",
    "pred_for_for = selected_for.predict(sfor_x_com)\n",
    "for_acc= accuracy_score(test_data_y, pred_for_for)\n",
    "print('{:4f}'.format(for_acc))"
   ]
  },
  {
   "cell_type": "code",
   "execution_count": 90,
   "metadata": {},
   "outputs": [
    {
     "name": "stdout",
     "output_type": "stream",
     "text": [
      "Fitting estimator with 12 features.\n",
      "Fitting estimator with 11 features.\n",
      "Fitting estimator with 10 features.\n",
      "Fitting estimator with 9 features.\n",
      "Fitting estimator with 8 features.\n",
      "Fitting estimator with 7 features.\n",
      "Fitting estimator with 6 features.\n",
      "Fitting estimator with 5 features.\n",
      "Fitting estimator with 4 features.\n",
      "Fitting estimator with 3 features.\n",
      "Fitting estimator with 2 features.\n",
      "Fitting estimator with 12 features.\n",
      "Fitting estimator with 11 features.\n",
      "Fitting estimator with 10 features.\n",
      "Fitting estimator with 9 features.\n",
      "Fitting estimator with 8 features.\n",
      "Fitting estimator with 7 features.\n",
      "Fitting estimator with 6 features.\n",
      "Fitting estimator with 5 features.\n",
      "Fitting estimator with 4 features.\n",
      "Fitting estimator with 3 features.\n",
      "Fitting estimator with 2 features.\n",
      "Fitting estimator with 12 features.\n",
      "Fitting estimator with 11 features.\n",
      "Fitting estimator with 10 features.\n",
      "Fitting estimator with 9 features.\n",
      "Fitting estimator with 8 features.\n",
      "Fitting estimator with 7 features.\n",
      "Fitting estimator with 6 features.\n",
      "Fitting estimator with 5 features.\n",
      "Fitting estimator with 4 features.\n",
      "Fitting estimator with 3 features.\n",
      "Fitting estimator with 2 features.\n",
      "Fitting estimator with 12 features.\n",
      "Fitting estimator with 11 features.\n",
      "Fitting estimator with 10 features.\n",
      "Fitting estimator with 9 features.\n",
      "Fitting estimator with 8 features.\n",
      "Fitting estimator with 7 features.\n",
      "Fitting estimator with 6 features.\n",
      "Fitting estimator with 5 features.\n",
      "Fitting estimator with 4 features.\n",
      "Fitting estimator with 3 features.\n",
      "Fitting estimator with 2 features.\n",
      "Fitting estimator with 12 features.\n",
      "Fitting estimator with 11 features.\n",
      "Fitting estimator with 10 features.\n",
      "Fitting estimator with 9 features.\n",
      "Fitting estimator with 8 features.\n",
      "Fitting estimator with 7 features.\n",
      "Fitting estimator with 6 features.\n",
      "Fitting estimator with 5 features.\n",
      "Fitting estimator with 4 features.\n",
      "Fitting estimator with 3 features.\n",
      "Fitting estimator with 2 features.\n",
      "Fitting estimator with 12 features.\n",
      "Fitting estimator with 11 features.\n",
      "Fitting estimator with 10 features.\n"
     ]
    },
    {
     "data": {
      "text/plain": [
       "RFECV(cv=5, estimator=RandomForestClassifier(), scoring='accuracy', verbose=2)"
      ]
     },
     "execution_count": 90,
     "metadata": {},
     "output_type": "execute_result"
    }
   ],
   "source": [
    "sfor_X_com = train_data_X.loc[:,['T7_evap in_MIN', 'T7_evap in_MAX', 'T8_evap out1_MIN', 'T8_evap out1_MAX', \n",
    "                                 'T8_evap out2_MIN', 'T8_evap out2_MAX', 'inside temp_MIN', 'inside temp_MAX',\n",
    "                                 'T8_1-T7_MIN', 'T8_1-T7_MAX', 'T8_2-T7_MIN', 'T8_2-T7_MAX']]\n",
    "sfor_x_com= test_data_X.loc[:,['T7_evap in_MIN', 'T7_evap in_MAX', 'T8_evap out1_MIN', 'T8_evap out1_MAX', \n",
    "                                 'T8_evap out2_MIN', 'T8_evap out2_MAX', 'inside temp_MIN', 'inside temp_MAX'\n",
    "                              , 'T8_1-T7_MIN', 'T8_1-T7_MAX', 'T8_2-T7_MIN', 'T8_2-T7_MAX']]\n",
    "forest3 = RandomForestClassifier()\n",
    "rfecv = RFECV(estimator=forest3, step=1, cv=5, scoring='accuracy', verbose=2)\n",
    "rfecv.fit(sfor_X_com, train_data_y)"
   ]
  },
  {
   "cell_type": "code",
   "execution_count": 91,
   "metadata": {},
   "outputs": [
    {
     "name": "stdout",
     "output_type": "stream",
     "text": [
      "9\n",
      "optimial number of features : 9\n"
     ]
    },
    {
     "data": {
      "text/plain": [
       "[<matplotlib.lines.Line2D at 0x2432f812a90>]"
      ]
     },
     "execution_count": 91,
     "metadata": {},
     "output_type": "execute_result"
    },
    {
     "data": {
      "image/png": "[encoded data removed]",
      "text/plain": [
       "<Figure size 432x288 with 1 Axes>"
      ]
     },
     "metadata": {
      "needs_background": "light"
     },
     "output_type": "display_data"
    }
   ],
   "source": [
    "print(rfecv.support_.sum())\n",
    "\n",
    "print('optimial number of features : %d' % rfecv.n_features_)\n",
    "\n",
    "plt.figure()\n",
    "plt.xlabel(\"number of features selected\")\n",
    "plt.ylabel(\"cross validation score (accuracy)\")\n",
    "plt.plot(\n",
    "range(1, len(rfecv.grid_scores_)*1 + 1, 1), rfecv.grid_scores_,\n",
    ")"
   ]
  },
  {
   "cell_type": "code",
   "execution_count": 93,
   "metadata": {},
   "outputs": [
    {
     "name": "stdout",
     "output_type": "stream",
     "text": [
      "all_features :  12\n",
      "['T7_evap in_MIN' 'T7_evap in_MAX' 'T8_evap out1_MIN' 'T8_evap out1_MAX'\n",
      " 'T8_evap out2_MIN' 'T8_evap out2_MAX' 'inside temp_MIN' 'inside temp_MAX'\n",
      " 'T8_1-T7_MIN' 'T8_1-T7_MAX' 'T8_2-T7_MIN' 'T8_2-T7_MAX']\n",
      "\n",
      "Selected best :  2424\n",
      "['T7_evap in_MIN' 'T7_evap in_MAX' 'T8_evap out1_MIN' 'T8_evap out1_MAX'\n",
      " 'inside temp_MIN' 'inside temp_MAX' 'T8_1-T7_MIN' 'T8_1-T7_MAX'\n",
      " 'T8_2-T7_MIN']\n"
     ]
    }
   ],
   "source": [
    "mask = rfecv.get_support()\n",
    "features = np.array(sfor_X_com.columns)\n",
    "best_features = features[mask]\n",
    "\n",
    "print('all_features : ', sfor_X_com.shape[1])\n",
    "print(features)\n",
    "print()\n",
    "print('Selected best : ', sfor_X_com.shape[0])\n",
    "print(features[mask])"
   ]
  },
  {
   "cell_type": "code",
   "execution_count": 94,
   "metadata": {},
   "outputs": [
    {
     "name": "stdout",
     "output_type": "stream",
     "text": [
      "0.944912\n"
     ]
    }
   ],
   "source": [
    "#회사에서 언급한 것들 + 입출구 차 학습 후 결과 rbf 커널 사용\n",
    "sfor_X_com = train_data_X.loc[:,['T7_evap in_MIN', 'T7_evap in_MAX', 'T8_evap out1_MIN', 'T8_evap out1_MAX',\n",
    " 'inside temp_MIN', 'inside temp_MAX', 'T8_1-T7_MIN', 'T8_1-T7_MAX', 'T8_2-T7_MIN']]\n",
    "sfor_x_com= test_data_X.loc[:,['T7_evap in_MIN', 'T7_evap in_MAX', 'T8_evap out1_MIN', 'T8_evap out1_MAX',\n",
    " 'inside temp_MIN', 'inside temp_MAX', 'T8_1-T7_MIN', 'T8_1-T7_MAX', 'T8_2-T7_MIN']]\n",
    "selected_for = RandomForestClassifier()\n",
    "selected_for.fit(sfor_X_com , train_data_y)\n",
    "pred_for_for = selected_for.predict(sfor_x_com)\n",
    "for_acc= accuracy_score(test_data_y, pred_for_for)\n",
    "print('{:4f}'.format(for_acc))"
   ]
  },
  {
   "cell_type": "code",
   "execution_count": 95,
   "metadata": {},
   "outputs": [
    {
     "data": {
      "text/plain": [
       "RandomForestClassifier()"
      ]
     },
     "execution_count": 95,
     "metadata": {},
     "output_type": "execute_result"
    }
   ],
   "source": [
    "forest4 = RandomForestClassifier()\n",
    "forest4 .fit(sfor_X_com, train_data_y)"
   ]
  },
  {
   "cell_type": "code",
   "execution_count": 96,
   "metadata": {},
   "outputs": [
    {
     "name": "stdout",
     "output_type": "stream",
     "text": [
      "Feature ranking\n",
      "1. feature inside temp_MAX (0.158)\n",
      "2. feature inside temp_MIN (0.151)\n",
      "3. feature T7_evap in_MAX (0.125)\n",
      "4. feature T7_evap in_MIN (0.121)\n",
      "5. feature T8_evap out1_MAX (0.111)\n",
      "6. feature T8_evap out1_MIN (0.111)\n",
      "7. feature T8_1-T7_MIN (0.082)\n",
      "8. feature T8_1-T7_MAX (0.082)\n",
      "9. feature T8_2-T7_MIN (0.058)\n"
     ]
    },
    {
     "data": {
      "image/png": "[encoded data removed]",
      "text/plain": [
       "<Figure size 432x288 with 1 Axes>"
      ]
     },
     "metadata": {
      "needs_background": "light"
     },
     "output_type": "display_data"
    }
   ],
   "source": [
    "importance = forest4.feature_importances_\n",
    "std = np.std([tree.feature_importances_ for tree in forest4.estimators_], axis=0)\n",
    "indices = np.argsort(importance)[::-1]\n",
    "\n",
    "print(\"Feature ranking\")\n",
    "\n",
    "for f in range(sfor_X_com.shape[1]) :\n",
    "    print(\"{}. feature {} ({:.3f})\".format(f+1, sfor_X_com.columns[indices][f], importance[indices[f]]))\n",
    "    \n",
    "plt.figure()\n",
    "plt.title(\"Feature importance\")\n",
    "plt.bar(range(sfor_X_com.shape[1]), importance[indices], color='r', align='center')\n",
    "plt.xticks(range(sfor_X_com.shape[1]), sfor_X_com.columns[indices], rotation=45)\n",
    "plt.xlim([-1, sfor_X_com.shape[1]])\n",
    "plt.show()"
   ]
  },
  {
   "cell_type": "code",
   "execution_count": 13,
   "metadata": {},
   "outputs": [
    {
     "name": "stdout",
     "output_type": "stream",
     "text": [
      "0.993057\n"
     ]
    }
   ],
   "source": [
    "# feature selection\n",
    "from sklearn.svm import SVC\n",
    "\n",
    "svc = SVC(kernel='linear')\n",
    "svc.fit(train_data_X, train_data_y)\n",
    "\n",
    "from sklearn.metrics import accuracy_score\n",
    "\n",
    "pred = svc.predict(test_data_X)\n",
    "accuracy = accuracy_score(test_data_y, pred)\n",
    "print('{:4f}'.format(accuracy))"
   ]
  },
  {
   "cell_type": "code",
   "execution_count": 97,
   "metadata": {},
   "outputs": [
    {
     "name": "stdout",
     "output_type": "stream",
     "text": [
      "Fitting estimator with 43 features.\n",
      "Fitting estimator with 42 features.\n",
      "Fitting estimator with 41 features.\n",
      "Fitting estimator with 40 features.\n",
      "Fitting estimator with 39 features.\n",
      "Fitting estimator with 38 features.\n",
      "Fitting estimator with 37 features.\n",
      "Fitting estimator with 36 features.\n",
      "Fitting estimator with 35 features.\n",
      "Fitting estimator with 34 features.\n",
      "Fitting estimator with 33 features.\n",
      "Fitting estimator with 32 features.\n",
      "Fitting estimator with 31 features.\n",
      "Fitting estimator with 30 features.\n",
      "Fitting estimator with 29 features.\n",
      "Fitting estimator with 28 features.\n",
      "Fitting estimator with 27 features.\n",
      "Fitting estimator with 26 features.\n",
      "Fitting estimator with 25 features.\n",
      "Fitting estimator with 24 features.\n",
      "Fitting estimator with 23 features.\n",
      "Fitting estimator with 22 features.\n",
      "Fitting estimator with 21 features.\n",
      "Fitting estimator with 20 features.\n",
      "Fitting estimator with 19 features.\n",
      "Fitting estimator with 18 features.\n",
      "Fitting estimator with 17 features.\n",
      "Fitting estimator with 16 features.\n",
      "Fitting estimator with 15 features.\n",
      "Fitting estimator with 14 features.\n",
      "Fitting estimator with 13 features.\n",
      "Fitting estimator with 12 features.\n",
      "Fitting estimator with 11 features.\n",
      "Fitting estimator with 10 features.\n",
      "Fitting estimator with 9 features.\n",
      "Fitting estimator with 8 features.\n",
      "Fitting estimator with 7 features.\n",
      "Fitting estimator with 6 features.\n",
      "Fitting estimator with 5 features.\n",
      "Fitting estimator with 4 features.\n",
      "Fitting estimator with 3 features.\n",
      "Fitting estimator with 2 features.\n",
      "Fitting estimator with 43 features.\n",
      "Fitting estimator with 42 features.\n",
      "Fitting estimator with 41 features.\n",
      "Fitting estimator with 40 features.\n",
      "Fitting estimator with 39 features.\n",
      "Fitting estimator with 38 features.\n",
      "Fitting estimator with 37 features.\n",
      "Fitting estimator with 36 features.\n",
      "Fitting estimator with 35 features.\n",
      "Fitting estimator with 34 features.\n",
      "Fitting estimator with 33 features.\n",
      "Fitting estimator with 32 features.\n",
      "Fitting estimator with 31 features.\n",
      "Fitting estimator with 30 features.\n",
      "Fitting estimator with 29 features.\n",
      "Fitting estimator with 28 features.\n",
      "Fitting estimator with 27 features.\n",
      "Fitting estimator with 26 features.\n",
      "Fitting estimator with 25 features.\n",
      "Fitting estimator with 24 features.\n",
      "Fitting estimator with 23 features.\n",
      "Fitting estimator with 22 features.\n",
      "Fitting estimator with 21 features.\n",
      "Fitting estimator with 20 features.\n",
      "Fitting estimator with 19 features.\n",
      "Fitting estimator with 18 features.\n",
      "Fitting estimator with 17 features.\n",
      "Fitting estimator with 16 features.\n",
      "Fitting estimator with 15 features.\n",
      "Fitting estimator with 14 features.\n",
      "Fitting estimator with 13 features.\n",
      "Fitting estimator with 12 features.\n",
      "Fitting estimator with 11 features.\n",
      "Fitting estimator with 10 features.\n",
      "Fitting estimator with 9 features.\n",
      "Fitting estimator with 8 features.\n",
      "Fitting estimator with 7 features.\n",
      "Fitting estimator with 6 features.\n",
      "Fitting estimator with 5 features.\n",
      "Fitting estimator with 4 features.\n",
      "Fitting estimator with 3 features.\n",
      "Fitting estimator with 2 features.\n",
      "Fitting estimator with 43 features.\n",
      "Fitting estimator with 42 features.\n",
      "Fitting estimator with 41 features.\n",
      "Fitting estimator with 40 features.\n",
      "Fitting estimator with 39 features.\n",
      "Fitting estimator with 38 features.\n",
      "Fitting estimator with 37 features.\n",
      "Fitting estimator with 36 features.\n",
      "Fitting estimator with 35 features.\n",
      "Fitting estimator with 34 features.\n",
      "Fitting estimator with 33 features.\n",
      "Fitting estimator with 32 features.\n",
      "Fitting estimator with 31 features.\n",
      "Fitting estimator with 30 features.\n",
      "Fitting estimator with 29 features.\n",
      "Fitting estimator with 28 features.\n",
      "Fitting estimator with 27 features.\n",
      "Fitting estimator with 26 features.\n",
      "Fitting estimator with 25 features.\n",
      "Fitting estimator with 24 features.\n",
      "Fitting estimator with 23 features.\n",
      "Fitting estimator with 22 features.\n",
      "Fitting estimator with 21 features.\n",
      "Fitting estimator with 20 features.\n",
      "Fitting estimator with 19 features.\n",
      "Fitting estimator with 18 features.\n",
      "Fitting estimator with 17 features.\n",
      "Fitting estimator with 16 features.\n",
      "Fitting estimator with 15 features.\n",
      "Fitting estimator with 14 features.\n",
      "Fitting estimator with 13 features.\n",
      "Fitting estimator with 12 features.\n",
      "Fitting estimator with 11 features.\n",
      "Fitting estimator with 10 features.\n",
      "Fitting estimator with 9 features.\n",
      "Fitting estimator with 8 features.\n",
      "Fitting estimator with 7 features.\n",
      "Fitting estimator with 6 features.\n",
      "Fitting estimator with 5 features.\n",
      "Fitting estimator with 4 features.\n",
      "Fitting estimator with 3 features.\n",
      "Fitting estimator with 2 features.\n",
      "Fitting estimator with 43 features.\n",
      "Fitting estimator with 42 features.\n",
      "Fitting estimator with 41 features.\n",
      "Fitting estimator with 40 features.\n",
      "Fitting estimator with 39 features.\n",
      "Fitting estimator with 38 features.\n",
      "Fitting estimator with 37 features.\n",
      "Fitting estimator with 36 features.\n",
      "Fitting estimator with 35 features.\n",
      "Fitting estimator with 34 features.\n",
      "Fitting estimator with 33 features.\n",
      "Fitting estimator with 32 features.\n",
      "Fitting estimator with 31 features.\n",
      "Fitting estimator with 30 features.\n",
      "Fitting estimator with 29 features.\n",
      "Fitting estimator with 28 features.\n",
      "Fitting estimator with 27 features.\n",
      "Fitting estimator with 26 features.\n",
      "Fitting estimator with 25 features.\n",
      "Fitting estimator with 24 features.\n",
      "Fitting estimator with 23 features.\n",
      "Fitting estimator with 22 features.\n",
      "Fitting estimator with 21 features.\n",
      "Fitting estimator with 20 features.\n",
      "Fitting estimator with 19 features.\n",
      "Fitting estimator with 18 features.\n",
      "Fitting estimator with 17 features.\n",
      "Fitting estimator with 16 features.\n",
      "Fitting estimator with 15 features.\n",
      "Fitting estimator with 14 features.\n",
      "Fitting estimator with 13 features.\n",
      "Fitting estimator with 12 features.\n",
      "Fitting estimator with 11 features.\n",
      "Fitting estimator with 10 features.\n",
      "Fitting estimator with 9 features.\n",
      "Fitting estimator with 8 features.\n",
      "Fitting estimator with 7 features.\n",
      "Fitting estimator with 6 features.\n",
      "Fitting estimator with 5 features.\n",
      "Fitting estimator with 4 features.\n",
      "Fitting estimator with 3 features.\n",
      "Fitting estimator with 2 features.\n",
      "Fitting estimator with 43 features.\n",
      "Fitting estimator with 42 features.\n",
      "Fitting estimator with 41 features.\n",
      "Fitting estimator with 40 features.\n",
      "Fitting estimator with 39 features.\n",
      "Fitting estimator with 38 features.\n",
      "Fitting estimator with 37 features.\n",
      "Fitting estimator with 36 features.\n",
      "Fitting estimator with 35 features.\n",
      "Fitting estimator with 34 features.\n",
      "Fitting estimator with 33 features.\n",
      "Fitting estimator with 32 features.\n",
      "Fitting estimator with 31 features.\n",
      "Fitting estimator with 30 features.\n",
      "Fitting estimator with 29 features.\n",
      "Fitting estimator with 28 features.\n",
      "Fitting estimator with 27 features.\n",
      "Fitting estimator with 26 features.\n",
      "Fitting estimator with 25 features.\n",
      "Fitting estimator with 24 features.\n",
      "Fitting estimator with 23 features.\n",
      "Fitting estimator with 22 features.\n",
      "Fitting estimator with 21 features.\n",
      "Fitting estimator with 20 features.\n",
      "Fitting estimator with 19 features.\n",
      "Fitting estimator with 18 features.\n",
      "Fitting estimator with 17 features.\n",
      "Fitting estimator with 16 features.\n",
      "Fitting estimator with 15 features.\n",
      "Fitting estimator with 14 features.\n",
      "Fitting estimator with 13 features.\n",
      "Fitting estimator with 12 features.\n",
      "Fitting estimator with 11 features.\n",
      "Fitting estimator with 10 features.\n",
      "Fitting estimator with 9 features.\n",
      "Fitting estimator with 8 features.\n",
      "Fitting estimator with 7 features.\n",
      "Fitting estimator with 6 features.\n",
      "Fitting estimator with 5 features.\n",
      "Fitting estimator with 4 features.\n",
      "Fitting estimator with 3 features.\n",
      "Fitting estimator with 2 features.\n",
      "Fitting estimator with 43 features.\n",
      "Fitting estimator with 42 features.\n",
      "Fitting estimator with 41 features.\n",
      "Fitting estimator with 40 features.\n",
      "Fitting estimator with 39 features.\n",
      "Fitting estimator with 38 features.\n",
      "Fitting estimator with 37 features.\n",
      "Fitting estimator with 36 features.\n"
     ]
    },
    {
     "data": {
      "text/plain": [
       "RFECV(cv=5, estimator=SVC(kernel='linear'), scoring='accuracy', verbose=2)"
      ]
     },
     "execution_count": 97,
     "metadata": {},
     "output_type": "execute_result"
    }
   ],
   "source": [
    "# feature selection\n",
    "from sklearn.svm import SVC\n",
    "from sklearn.feature_selection import RFECV, RFE\n",
    "\n",
    "svc = SVC(kernel='linear')\n",
    "rfecv2 = RFECV(estimator=svc, step=1, cv=5, scoring='accuracy', verbose=2)\n",
    "rfecv2.fit(train_data_X, train_data_y)"
   ]
  },
  {
   "cell_type": "code",
   "execution_count": 98,
   "metadata": {},
   "outputs": [
    {
     "name": "stdout",
     "output_type": "stream",
     "text": [
      "35\n",
      "optimial number of features : 35\n"
     ]
    },
    {
     "data": {
      "text/plain": [
       "[<matplotlib.lines.Line2D at 0x2432903c4c0>]"
      ]
     },
     "execution_count": 98,
     "metadata": {},
     "output_type": "execute_result"
    },
    {
     "data": {
      "image/png": "[encoded data removed]",
      "text/plain": [
       "<Figure size 432x288 with 1 Axes>"
      ]
     },
     "metadata": {
      "needs_background": "light"
     },
     "output_type": "display_data"
    }
   ],
   "source": [
    "import matplotlib.pyplot as plt\n",
    "print(rfecv2.support_.sum())\n",
    "\n",
    "print('optimial number of features : %d' % rfecv2.n_features_)\n",
    "\n",
    "plt.figure()\n",
    "plt.xlabel(\"number of features selected\")\n",
    "plt.ylabel(\"cross validation score (accuracy)\")\n",
    "plt.plot(\n",
    "range(1, len(rfecv2.grid_scores_)*1 + 1, 1), rfecv2.grid_scores_,\n",
    ")"
   ]
  },
  {
   "cell_type": "code",
   "execution_count": 99,
   "metadata": {},
   "outputs": [
    {
     "name": "stdout",
     "output_type": "stream",
     "text": [
      "all_features :  43\n",
      "['T1_lp1_MIN' 'T1_lp1_MAX' 'T2_hp1_MIN' 'T2_hp1_MAX' 'T3_hp2_MIN'\n",
      " 'T3_hp2_MAX' 'T1_comp in_MIN' 'T1_comp in_MAX' 'T2_comp out_MIN'\n",
      " 'T2_comp out_MAX' 'T3_cond in_MIN' 'T3_cond in_MAX' 'T4_cond out_MIN'\n",
      " 'T4_cond out_MAX' 'T5_Exp in_MIN' 'T5_Exp in_MAX' 'T6_Exp out_MIN'\n",
      " 'T6_Exp out_MAX' 'T7_evap in_MIN' 'T7_evap in_MAX' 'T8_evap out1_MIN'\n",
      " 'T8_evap out1_MAX' 'T8_evap out2_MIN' 'T8_evap out2_MAX'\n",
      " 'T10_sol out_MIN' 'T10_sol out_MAX' 'inside temp_MIN' 'inside temp_MAX'\n",
      " 'center_MIN' 'center_MAX' 'outside temp_MIN' 'outside temp_MAX'\n",
      " 'eva air in temp_MIN' 'eva air in temp_MAX' 'eva air out temp_MIN'\n",
      " 'eva air out temp_MAX' 'cond air in temp_MIN' 'cond air in temp_MAX'\n",
      " 'cond air out temp_MIN' 'T8_1-T7_MIN' 'T8_1-T7_MAX' 'T8_2-T7_MIN'\n",
      " 'T8_2-T7_MAX']\n",
      "\n",
      "Selected best :  35\n",
      "['T1_lp1_MIN' 'T2_hp1_MIN' 'T3_hp2_MIN' 'T3_hp2_MAX' 'T1_comp in_MIN'\n",
      " 'T1_comp in_MAX' 'T2_comp out_MIN' 'T2_comp out_MAX' 'T3_cond in_MIN'\n",
      " 'T3_cond in_MAX' 'T4_cond out_MIN' 'T4_cond out_MAX' 'T5_Exp in_MIN'\n",
      " 'T5_Exp in_MAX' 'T6_Exp out_MIN' 'T6_Exp out_MAX' 'T8_evap out1_MIN'\n",
      " 'T8_evap out1_MAX' 'T8_evap out2_MIN' 'T8_evap out2_MAX'\n",
      " 'T10_sol out_MIN' 'inside temp_MIN' 'inside temp_MAX' 'center_MIN'\n",
      " 'center_MAX' 'eva air in temp_MIN' 'eva air in temp_MAX'\n",
      " 'eva air out temp_MIN' 'eva air out temp_MAX' 'cond air in temp_MIN'\n",
      " 'cond air out temp_MIN' 'T8_1-T7_MIN' 'T8_1-T7_MAX' 'T8_2-T7_MIN'\n",
      " 'T8_2-T7_MAX']\n"
     ]
    }
   ],
   "source": [
    "import numpy as np\n",
    "mask2 = rfecv2.get_support()\n",
    "features = np.array(train_data_X.columns)\n",
    "best_features2 = features[mask2]\n",
    "\n",
    "print('all_features : ', train_data_X.shape[1])\n",
    "print(features)\n",
    "print()\n",
    "print('Selected best : ', best_features2.shape[0])\n",
    "print(features[mask2])"
   ]
  },
  {
   "cell_type": "code",
   "execution_count": 124,
   "metadata": {},
   "outputs": [
    {
     "name": "stdout",
     "output_type": "stream",
     "text": [
      "T1_lp1_MAX\n",
      "T2_hp1_MAX\n",
      "T7_evap in_MIN\n",
      "T7_evap in_MAX\n",
      "T10_sol out_MAX\n",
      "outside temp_MIN\n",
      "outside temp_MAX\n",
      "cond air in temp_MAX\n"
     ]
    }
   ],
   "source": [
    "x = ['T1_lp1_MIN', 'T2_hp1_MIN', 'T3_hp2_MIN', 'T3_hp2_MAX', 'T1_comp in_MIN',\n",
    " 'T1_comp in_MAX', 'T2_comp out_MIN', 'T2_comp out_MAX', 'T3_cond in_MIN',\n",
    " 'T3_cond in_MAX', 'T4_cond out_MIN', 'T4_cond out_MAX','T5_Exp in_MIN',\n",
    " 'T5_Exp in_MAX', 'T6_Exp out_MIN', 'T6_Exp out_MAX', 'T8_evap out1_MIN',\n",
    " 'T8_evap out1_MAX', 'T8_evap out2_MIN', 'T8_evap out2_MAX',\n",
    " 'T10_sol out_MIN', 'inside temp_MIN', 'inside temp_MAX', 'center_MIN',\n",
    " 'center_MAX', 'eva air in temp_MIN', 'eva air in temp_MAX',\n",
    " 'eva air out temp_MIN', 'eva air out temp_MAX', 'cond air in temp_MIN',\n",
    " 'cond air out temp_MIN', 'T8_1-T7_MIN', 'T8_1-T7_MAX', 'T8_2-T7_MIN',\n",
    " 'T8_2-T7_MAX']\n",
    "x2 = ['T1_lp1_MIN', 'T1_lp1_MAX', 'T2_hp1_MIN', 'T2_hp1_MAX', 'T3_hp2_MIN',\n",
    " 'T3_hp2_MAX', 'T1_comp in_MIN', 'T1_comp in_MAX', 'T2_comp out_MIN',\n",
    " 'T2_comp out_MAX', 'T3_cond in_MIN', 'T3_cond in_MAX', 'T4_cond out_MIN',\n",
    " 'T4_cond out_MAX', 'T5_Exp in_MIN', 'T5_Exp in_MAX', 'T6_Exp out_MIN',\n",
    " 'T6_Exp out_MAX', 'T7_evap in_MIN', 'T7_evap in_MAX', 'T8_evap out1_MIN',\n",
    " 'T8_evap out1_MAX', 'T8_evap out2_MIN', 'T8_evap out2_MAX',\n",
    " 'T10_sol out_MIN', 'T10_sol out_MAX', 'inside temp_MIN', 'inside temp_MAX',\n",
    " 'center_MIN', 'center_MAX', 'outside temp_MIN', 'outside temp_MAX',\n",
    " 'eva air in temp_MIN', 'eva air in temp_MAX', 'eva air out temp_MIN',\n",
    " 'eva air out temp_MAX' ,'cond air in temp_MIN', 'cond air in temp_MAX',\n",
    " 'cond air out temp_MIN', 'T8_1-T7_MIN', 'T8_1-T7_MAX', 'T8_2-T7_MIN',\n",
    " 'T8_2-T7_MAX']\n",
    "\n",
    "for aa in x2 :\n",
    "    if aa not in x :\n",
    "        print(aa)"
   ]
  },
  {
   "cell_type": "code",
   "execution_count": 101,
   "metadata": {},
   "outputs": [
    {
     "name": "stdout",
     "output_type": "stream",
     "text": [
      "0.992923\n"
     ]
    }
   ],
   "source": [
    "#선택된 피처로 학습 후 결과\n",
    "\n",
    "ssvm_train_X = train_data_X.loc[:,['T1_lp1_MIN', 'T2_hp1_MIN', 'T3_hp2_MIN', 'T3_hp2_MAX', 'T1_comp in_MIN',\n",
    " 'T1_comp in_MAX', 'T2_comp out_MIN', 'T2_comp out_MAX', 'T3_cond in_MIN',\n",
    " 'T3_cond in_MAX', 'T4_cond out_MIN', 'T4_cond out_MAX','T5_Exp in_MIN',\n",
    " 'T5_Exp in_MAX', 'T6_Exp out_MIN', 'T6_Exp out_MAX', 'T8_evap out1_MIN',\n",
    " 'T8_evap out1_MAX', 'T8_evap out2_MIN', 'T8_evap out2_MAX',\n",
    " 'T10_sol out_MIN', 'inside temp_MIN', 'inside temp_MAX', 'center_MIN',\n",
    " 'center_MAX', 'eva air in temp_MIN', 'eva air in temp_MAX',\n",
    " 'eva air out temp_MIN', 'eva air out temp_MAX', 'cond air in temp_MIN',\n",
    " 'cond air out temp_MIN', 'T8_1-T7_MIN', 'T8_1-T7_MAX', 'T8_2-T7_MIN',\n",
    " 'T8_2-T7_MAX']]\n",
    "ssvm_test_X = test_data_X.loc[:,['T1_lp1_MIN', 'T2_hp1_MIN', 'T3_hp2_MIN', 'T3_hp2_MAX', 'T1_comp in_MIN',\n",
    " 'T1_comp in_MAX', 'T2_comp out_MIN', 'T2_comp out_MAX', 'T3_cond in_MIN',\n",
    " 'T3_cond in_MAX', 'T4_cond out_MIN', 'T4_cond out_MAX','T5_Exp in_MIN',\n",
    " 'T5_Exp in_MAX', 'T6_Exp out_MIN', 'T6_Exp out_MAX', 'T8_evap out1_MIN',\n",
    " 'T8_evap out1_MAX', 'T8_evap out2_MIN', 'T8_evap out2_MAX',\n",
    " 'T10_sol out_MIN', 'inside temp_MIN', 'inside temp_MAX', 'center_MIN',\n",
    " 'center_MAX', 'eva air in temp_MIN', 'eva air in temp_MAX',\n",
    " 'eva air out temp_MIN', 'eva air out temp_MAX', 'cond air in temp_MIN',\n",
    " 'cond air out temp_MIN', 'T8_1-T7_MIN', 'T8_1-T7_MAX', 'T8_2-T7_MIN',\n",
    " 'T8_2-T7_MAX']]\n",
    "selected_svc = SVC(kernel='linear')\n",
    "selected_svc.fit(ssvm_train_X, train_data_y)\n",
    "pred_for_ssvc = selected_svc.predict(ssvm_test_X )\n",
    "saccuracy2 = accuracy_score(test_data_y, pred_for_ssvc)\n",
    "print('{:4f}'.format(saccuracy2))"
   ]
  },
  {
   "cell_type": "code",
   "execution_count": 77,
   "metadata": {},
   "outputs": [
    {
     "data": {
      "text/plain": [
       "RandomForestClassifier()"
      ]
     },
     "execution_count": 77,
     "metadata": {},
     "output_type": "execute_result"
    }
   ],
   "source": [
    "from sklearn.ensemble import RandomForestClassifier\n",
    "import numpy as np\n",
    "import matplotlib.pyplot as plt\n",
    "\n",
    "forest = RandomForestClassifier()\n",
    "forest.fit(train_data_X, train_data_y)\n"
   ]
  },
  {
   "cell_type": "code",
   "execution_count": 102,
   "metadata": {},
   "outputs": [
    {
     "name": "stdout",
     "output_type": "stream",
     "text": [
      "0.993218\n"
     ]
    }
   ],
   "source": [
    "selected_svc = SVC(kernel='linear')\n",
    "selected_svc.fit(train_data_X, train_data_y)\n",
    "pred_for_ssvc = selected_svc.predict(test_data_X)\n",
    "saccuracy2 = accuracy_score(test_data_y, pred_for_ssvc)\n",
    "print('{:4f}'.format(saccuracy2))"
   ]
  },
  {
   "cell_type": "code",
   "execution_count": 128,
   "metadata": {},
   "outputs": [
    {
     "name": "stdout",
     "output_type": "stream",
     "text": [
      "0.961050\n"
     ]
    }
   ],
   "source": [
    "#선택된 피처로 학습 후 결과\n",
    "\n",
    "ssvm_train_X = train_data_X.loc[:,['T1_lp1_MIN', 'T2_hp1_MIN', 'T3_hp2_MIN', 'T3_hp2_MAX', 'T1_comp in_MIN',\n",
    " 'T1_comp in_MAX', 'T2_comp out_MIN', 'T2_comp out_MAX', 'T3_cond in_MIN',\n",
    " 'T3_cond in_MAX', 'T4_cond out_MIN', 'T4_cond out_MAX','T5_Exp in_MIN',\n",
    " 'T5_Exp in_MAX', 'T6_Exp out_MIN', 'T6_Exp out_MAX', 'T8_evap out1_MIN',\n",
    " 'T8_evap out1_MAX', 'T8_evap out2_MIN', 'T8_evap out2_MAX',\n",
    " 'T10_sol out_MIN', 'inside temp_MIN', 'inside temp_MAX', 'center_MIN',\n",
    " 'center_MAX', 'eva air in temp_MIN', 'eva air in temp_MAX',\n",
    " 'eva air out temp_MIN', 'eva air out temp_MAX', 'cond air in temp_MIN',\n",
    " 'cond air out temp_MIN', 'T8_1-T7_MIN', 'T8_1-T7_MAX', 'T8_2-T7_MIN',\n",
    " 'T8_2-T7_MAX']]\n",
    "ssvm_test_X = test_data_X.loc[:,['T1_lp1_MIN', 'T2_hp1_MIN', 'T3_hp2_MIN', 'T3_hp2_MAX', 'T1_comp in_MIN',\n",
    " 'T1_comp in_MAX', 'T2_comp out_MIN', 'T2_comp out_MAX', 'T3_cond in_MIN',\n",
    " 'T3_cond in_MAX', 'T4_cond out_MIN', 'T4_cond out_MAX','T5_Exp in_MIN',\n",
    " 'T5_Exp in_MAX', 'T6_Exp out_MIN', 'T6_Exp out_MAX', 'T8_evap out1_MIN',\n",
    " 'T8_evap out1_MAX', 'T8_evap out2_MIN', 'T8_evap out2_MAX',\n",
    " 'T10_sol out_MIN', 'inside temp_MIN', 'inside temp_MAX', 'center_MIN',\n",
    " 'center_MAX', 'eva air in temp_MIN', 'eva air in temp_MAX',\n",
    " 'eva air out temp_MIN', 'eva air out temp_MAX', 'cond air in temp_MIN',\n",
    " 'cond air out temp_MIN', 'T8_1-T7_MIN', 'T8_1-T7_MAX', 'T8_2-T7_MIN',\n",
    " 'T8_2-T7_MAX']]\n",
    "selected_svc = SVC(kernel='rbf')\n",
    "selected_svc.fit(ssvm_train_X, train_data_y)\n",
    "pred_for_ssvc = selected_svc.predict(ssvm_test_X )\n",
    "saccuracy2 = accuracy_score(test_data_y, pred_for_ssvc)\n",
    "print('{:4f}'.format(saccuracy2))"
   ]
  },
  {
   "cell_type": "code",
   "execution_count": 129,
   "metadata": {},
   "outputs": [
    {
     "name": "stdout",
     "output_type": "stream",
     "text": [
      "0.883927\n"
     ]
    }
   ],
   "source": [
    "ssvm_X_com = train_data_X.loc[:,['T7_evap in_MIN', 'T7_evap in_MAX', 'T8_evap out1_MIN', 'T8_evap out1_MAX', \n",
    "                                 'T8_evap out2_MIN', 'T8_evap out2_MAX']]\n",
    "ssvm_x_com= test_data_X.loc[:,['T7_evap in_MIN', 'T7_evap in_MAX', 'T8_evap out1_MIN', 'T8_evap out1_MAX', \n",
    "                                 'T8_evap out2_MIN', 'T8_evap out2_MAX']]\n",
    "selected_svc3 = SVC(kernel='linear')\n",
    "selected_svc3.fit(ssvm_X_com, train_data_y)\n",
    "pred_for_ssvc3 = selected_svc3.predict(ssvm_x_com)\n",
    "saccuracy4 = accuracy_score(test_data_y, pred_for_ssvc3)\n",
    "print('{:4f}'.format(saccuracy4))"
   ]
  },
  {
   "cell_type": "code",
   "execution_count": 127,
   "metadata": {},
   "outputs": [
    {
     "name": "stdout",
     "output_type": "stream",
     "text": [
      "0.884409\n"
     ]
    }
   ],
   "source": [
    "#회사에서 언급한 것들로 학습 후 결과 rbf 커널 사용, 차 사용\n",
    "ssvm_X_com2 = train_data_X.loc[:,['T7_evap in_MIN', 'T7_evap in_MAX', 'T8_evap out1_MIN', 'T8_evap out1_MAX', \n",
    "                                 'T8_evap out2_MIN', 'T8_evap out2_MAX', 'T8_1-T7_MIN', 'T8_1-T7_MAX', 'T8_2-T7_MIN', 'T8_2-T7_MAX']]\n",
    "ssvm_x_com2= test_data_X.loc[:,['T7_evap in_MIN', 'T7_evap in_MAX', 'T8_evap out1_MIN', 'T8_evap out1_MAX', \n",
    "                                 'T8_evap out2_MIN', 'T8_evap out2_MAX', 'T8_1-T7_MIN', 'T8_1-T7_MAX', 'T8_2-T7_MIN', 'T8_2-T7_MAX']]\n",
    "selected_svc4 = SVC(kernel='linear')\n",
    "selected_svc4.fit(ssvm_X_com2, train_data_y)\n",
    "pred_for_ssvc4 = selected_svc4.predict(ssvm_x_com2)\n",
    "saccuracy5 = accuracy_score(test_data_y, pred_for_ssvc4)\n",
    "print('{:4f}'.format(saccuracy5))"
   ]
  },
  {
   "cell_type": "code",
   "execution_count": 107,
   "metadata": {},
   "outputs": [
    {
     "name": "stdout",
     "output_type": "stream",
     "text": [
      "0.907570\n"
     ]
    }
   ],
   "source": [
    "#회사에서 언급한 것들로 학습 후 결과 선형커널 사용, 차 사용 고내온도 사용\n",
    "ssvm_X_com2 = train_data_X.loc[:,['T7_evap in_MIN', 'T7_evap in_MAX', 'T8_evap out1_MIN', 'T8_evap out1_MAX', \n",
    "                                 'T8_evap out2_MIN', 'T8_evap out2_MAX', 'T8_1-T7_MIN', 'T8_1-T7_MAX', 'T8_2-T7_MIN', 'T8_2-T7_MAX'\n",
    "                                 , 'inside temp_MIN', 'inside temp_MAX']]\n",
    "ssvm_x_com2= test_data_X.loc[:,['T7_evap in_MIN', 'T7_evap in_MAX', 'T8_evap out1_MIN', 'T8_evap out1_MAX', \n",
    "                                 'T8_evap out2_MIN', 'T8_evap out2_MAX', 'T8_1-T7_MIN', 'T8_1-T7_MAX', 'T8_2-T7_MIN', 'T8_2-T7_MAX'\n",
    "                               ,'inside temp_MIN', 'inside temp_MAX']]\n",
    "selected_svc4 = SVC(kernel='linear')\n",
    "selected_svc4.fit(ssvm_X_com2, train_data_y)\n",
    "pred_for_ssvc4 = selected_svc4.predict(ssvm_x_com2)\n",
    "saccuracy5 = accuracy_score(test_data_y, pred_for_ssvc4)\n",
    "print('{:4f}'.format(saccuracy5))"
   ]
  },
  {
   "cell_type": "code",
   "execution_count": 108,
   "metadata": {},
   "outputs": [
    {
     "name": "stdout",
     "output_type": "stream",
     "text": [
      "0.852161\n"
     ]
    }
   ],
   "source": [
    "#회사에서 언급한 것들로 학습 후 결과 선형 커널 사용, 차, 고내온도만 사용\n",
    "ssvm_X_com2 = train_data_X.loc[:,['T8_1-T7_MIN', 'T8_1-T7_MAX', 'T8_2-T7_MIN', 'T8_2-T7_MAX','inside temp_MIN', 'inside temp_MAX']]\n",
    "ssvm_x_com2= test_data_X.loc[:,['T8_1-T7_MIN', 'T8_1-T7_MAX', 'T8_2-T7_MIN', 'T8_2-T7_MAX','inside temp_MIN', 'inside temp_MAX']]\n",
    "selected_svc4 = SVC(kernel='linear')\n",
    "selected_svc4.fit(ssvm_X_com2, train_data_y)\n",
    "pred_for_ssvc4 = selected_svc4.predict(ssvm_x_com2)\n",
    "saccuracy5 = accuracy_score(test_data_y, pred_for_ssvc4)\n",
    "print('{:4f}'.format(saccuracy5))"
   ]
  },
  {
   "cell_type": "code",
   "execution_count": 109,
   "metadata": {},
   "outputs": [
    {
     "name": "stdout",
     "output_type": "stream",
     "text": [
      "0.892987\n"
     ]
    }
   ],
   "source": [
    "#회사에서 언급한 것들로 학습 후 결과 rbf 커널 사용, 차 + 고내온도 , 센서 사용 1번\n",
    "ssvm_X_com2 = train_data_X.loc[:,['T7_evap in_MIN', 'T7_evap in_MAX', 'T8_evap out1_MIN', 'T8_evap out1_MAX', \n",
    "                                  'T8_1-T7_MIN', 'T8_1-T7_MAX'\n",
    "                                 , 'inside temp_MIN', 'inside temp_MAX']]\n",
    "ssvm_x_com2= test_data_X.loc[:,['T7_evap in_MIN', 'T7_evap in_MAX', 'T8_evap out1_MIN', 'T8_evap out1_MAX', \n",
    "                                 'T8_1-T7_MIN', 'T8_1-T7_MAX'\n",
    "                               ,'inside temp_MIN', 'inside temp_MAX']]\n",
    "selected_svc4 = SVC(kernel='linear')\n",
    "selected_svc4.fit(ssvm_X_com2, train_data_y)\n",
    "pred_for_ssvc4 = selected_svc4.predict(ssvm_x_com2)\n",
    "saccuracy5 = accuracy_score(test_data_y, pred_for_ssvc4)\n",
    "print('{:4f}'.format(saccuracy5))"
   ]
  },
  {
   "cell_type": "code",
   "execution_count": 111,
   "metadata": {},
   "outputs": [
    {
     "name": "stdout",
     "output_type": "stream",
     "text": [
      "0.886849\n"
     ]
    }
   ],
   "source": [
    "#회사에서 언급한 것들로 학습 후 결과 rbf 커널 사용,차 + 고내온도 , 센서 사용 2번\n",
    "ssvm_X_com2 = train_data_X.loc[:,['T7_evap in_MIN', 'T7_evap in_MAX', 'T8_evap out2_MIN', 'T8_evap out2_MAX', 'T8_2-T7_MIN', 'T8_2-T7_MAX'\n",
    "                                 , 'inside temp_MIN', 'inside temp_MAX']]\n",
    "ssvm_x_com2= test_data_X.loc[:,['T7_evap in_MIN', 'T7_evap in_MAX', \n",
    "                                 'T8_evap out2_MIN', 'T8_evap out2_MAX', 'T8_2-T7_MIN', 'T8_2-T7_MAX'\n",
    "                               ,'inside temp_MIN', 'inside temp_MAX']]\n",
    "selected_svc4 = SVC(kernel='linear')\n",
    "selected_svc4.fit(ssvm_X_com2, train_data_y)\n",
    "pred_for_ssvc4 = selected_svc4.predict(ssvm_x_com2)\n",
    "saccuracy5 = accuracy_score(test_data_y, pred_for_ssvc4)\n",
    "print('{:4f}'.format(saccuracy5))"
   ]
  },
  {
   "cell_type": "code",
   "execution_count": 115,
   "metadata": {},
   "outputs": [
    {
     "name": "stdout",
     "output_type": "stream",
     "text": [
      "Fitting estimator with 12 features.\n",
      "Fitting estimator with 11 features.\n",
      "Fitting estimator with 10 features.\n",
      "Fitting estimator with 9 features.\n",
      "Fitting estimator with 8 features.\n",
      "Fitting estimator with 7 features.\n",
      "Fitting estimator with 6 features.\n",
      "Fitting estimator with 5 features.\n",
      "Fitting estimator with 4 features.\n",
      "Fitting estimator with 3 features.\n",
      "Fitting estimator with 2 features.\n",
      "Fitting estimator with 12 features.\n",
      "Fitting estimator with 11 features.\n",
      "Fitting estimator with 10 features.\n",
      "Fitting estimator with 9 features.\n",
      "Fitting estimator with 8 features.\n",
      "Fitting estimator with 7 features.\n",
      "Fitting estimator with 6 features.\n",
      "Fitting estimator with 5 features.\n",
      "Fitting estimator with 4 features.\n",
      "Fitting estimator with 3 features.\n",
      "Fitting estimator with 2 features.\n",
      "Fitting estimator with 12 features.\n",
      "Fitting estimator with 11 features.\n",
      "Fitting estimator with 10 features.\n",
      "Fitting estimator with 9 features.\n",
      "Fitting estimator with 8 features.\n",
      "Fitting estimator with 7 features.\n",
      "Fitting estimator with 6 features.\n",
      "Fitting estimator with 5 features.\n",
      "Fitting estimator with 4 features.\n",
      "Fitting estimator with 3 features.\n",
      "Fitting estimator with 2 features.\n",
      "Fitting estimator with 12 features.\n",
      "Fitting estimator with 11 features.\n",
      "Fitting estimator with 10 features.\n",
      "Fitting estimator with 9 features.\n",
      "Fitting estimator with 8 features.\n",
      "Fitting estimator with 7 features.\n",
      "Fitting estimator with 6 features.\n",
      "Fitting estimator with 5 features.\n",
      "Fitting estimator with 4 features.\n",
      "Fitting estimator with 3 features.\n",
      "Fitting estimator with 2 features.\n",
      "Fitting estimator with 12 features.\n",
      "Fitting estimator with 11 features.\n",
      "Fitting estimator with 10 features.\n",
      "Fitting estimator with 9 features.\n",
      "Fitting estimator with 8 features.\n",
      "Fitting estimator with 7 features.\n",
      "Fitting estimator with 6 features.\n",
      "Fitting estimator with 5 features.\n",
      "Fitting estimator with 4 features.\n",
      "Fitting estimator with 3 features.\n",
      "Fitting estimator with 2 features.\n",
      "Fitting estimator with 12 features.\n"
     ]
    },
    {
     "data": {
      "text/plain": [
       "RFECV(cv=5, estimator=SVC(kernel='linear'), scoring='accuracy', verbose=2)"
      ]
     },
     "execution_count": 115,
     "metadata": {},
     "output_type": "execute_result"
    }
   ],
   "source": [
    "from sklearn.svm import SVC\n",
    "from sklearn.feature_selection import RFECV, RFE\n",
    "\n",
    "ssvm_train_X = train_data_X.loc[:,['T7_evap in_MIN', 'T7_evap in_MAX', 'T8_evap out1_MIN', 'T8_evap out1_MAX', \n",
    "                                 'T8_evap out2_MIN', 'T8_evap out2_MAX', 'T8_1-T7_MIN', 'T8_1-T7_MAX', 'T8_2-T7_MIN', 'T8_2-T7_MAX'\n",
    "                               ,'inside temp_MIN', 'inside temp_MAX']]\n",
    "ssvm_test_X = test_data_X.loc[:,['T7_evap in_MIN', 'T7_evap in_MAX', 'T8_evap out1_MIN', 'T8_evap out1_MAX', \n",
    "                                 'T8_evap out2_MIN', 'T8_evap out2_MAX', 'T8_1-T7_MIN', 'T8_1-T7_MAX', 'T8_2-T7_MIN', 'T8_2-T7_MAX'\n",
    "                               ,'inside temp_MIN', 'inside temp_MAX']]\n",
    "\n",
    "svc = SVC(kernel='linear')\n",
    "rfecv2 = RFECV(estimator=svc, step=1, cv=5, scoring='accuracy', verbose=2)\n",
    "rfecv2.fit(ssvm_train_X, train_data_y)"
   ]
  },
  {
   "cell_type": "code",
   "execution_count": 116,
   "metadata": {},
   "outputs": [
    {
     "name": "stdout",
     "output_type": "stream",
     "text": [
      "11\n",
      "optimial number of features : 11\n"
     ]
    },
    {
     "data": {
      "text/plain": [
       "[<matplotlib.lines.Line2D at 0x24329b99040>]"
      ]
     },
     "execution_count": 116,
     "metadata": {},
     "output_type": "execute_result"
    },
    {
     "data": {
      "image/png": "[encoded data removed]",
      "text/plain": [
       "<Figure size 432x288 with 1 Axes>"
      ]
     },
     "metadata": {
      "needs_background": "light"
     },
     "output_type": "display_data"
    }
   ],
   "source": [
    "import matplotlib.pyplot as plt\n",
    "print(rfecv2.support_.sum())\n",
    "\n",
    "print('optimial number of features : %d' % rfecv2.n_features_)\n",
    "\n",
    "plt.figure()\n",
    "plt.xlabel(\"number of features selected\")\n",
    "plt.ylabel(\"cross validation score (accuracy)\")\n",
    "plt.plot(\n",
    "range(1, len(rfecv2.grid_scores_)*1 + 1, 1), rfecv2.grid_scores_,\n",
    ")"
   ]
  },
  {
   "cell_type": "code",
   "execution_count": 118,
   "metadata": {},
   "outputs": [
    {
     "name": "stdout",
     "output_type": "stream",
     "text": [
      "all_features :  12\n",
      "['T7_evap in_MIN' 'T7_evap in_MAX' 'T8_evap out1_MIN' 'T8_evap out1_MAX'\n",
      " 'T8_evap out2_MIN' 'T8_evap out2_MAX' 'T8_1-T7_MIN' 'T8_1-T7_MAX'\n",
      " 'T8_2-T7_MIN' 'T8_2-T7_MAX' 'inside temp_MIN' 'inside temp_MAX']\n",
      "\n",
      "Selected best :  11\n",
      "['T7_evap in_MIN' 'T7_evap in_MAX' 'T8_evap out1_MIN' 'T8_evap out1_MAX'\n",
      " 'T8_evap out2_MIN' 'T8_evap out2_MAX' 'T8_1-T7_MIN' 'T8_1-T7_MAX'\n",
      " 'T8_2-T7_MIN' 'T8_2-T7_MAX' 'inside temp_MIN']\n"
     ]
    }
   ],
   "source": [
    "import numpy as np\n",
    "mask2 = rfecv2.get_support()\n",
    "features = np.array(ssvm_train_X.columns)\n",
    "best_features2 = features[mask2]\n",
    "\n",
    "print('all_features : ', ssvm_train_X.shape[1])\n",
    "print(features)\n",
    "print()\n",
    "print('Selected best : ', best_features2.shape[0])\n",
    "print(features[mask2])"
   ]
  },
  {
   "cell_type": "code",
   "execution_count": 119,
   "metadata": {},
   "outputs": [
    {
     "name": "stdout",
     "output_type": "stream",
     "text": [
      "0.907409\n"
     ]
    }
   ],
   "source": [
    "ssvm_X_com2 = train_data_X.loc[:,['T7_evap in_MIN', 'T7_evap in_MAX', 'T8_evap out1_MIN', 'T8_evap out1_MAX', \n",
    "                                 'T8_evap out2_MIN', 'T8_evap out2_MAX', 'T8_1-T7_MIN', 'T8_1-T7_MAX', 'T8_2-T7_MIN', 'T8_2-T7_MAX'\n",
    "                               ,'inside temp_MIN']]\n",
    "ssvm_x_com2= test_data_X.loc[:,['T7_evap in_MIN', 'T7_evap in_MAX', 'T8_evap out1_MIN', 'T8_evap out1_MAX', \n",
    "                                 'T8_evap out2_MIN', 'T8_evap out2_MAX', 'T8_1-T7_MIN', 'T8_1-T7_MAX', 'T8_2-T7_MIN', 'T8_2-T7_MAX'\n",
    "                               ,'inside temp_MIN']]\n",
    "selected_svc4 = SVC(kernel='linear')\n",
    "selected_svc4.fit(ssvm_X_com2, train_data_y)\n",
    "pred_for_ssvc4 = selected_svc4.predict(ssvm_x_com2)\n",
    "saccuracy5 = accuracy_score(test_data_y, pred_for_ssvc4)\n",
    "print('{:4f}'.format(saccuracy5))"
   ]
  },
  {
   "cell_type": "code",
   "execution_count": null,
   "metadata": {},
   "outputs": [],
   "source": []
  }
 ],
 "metadata": {
  "kernelspec": {
   "display_name": "Python 3",
   "language": "python",
   "name": "python3"
  },
  "language_info": {
   "codemirror_mode": {
    "name": "ipython",
    "version": 3
   },
   "file_extension": ".py",
   "mimetype": "text/x-python",
   "name": "python",
   "nbconvert_exporter": "python",
   "pygments_lexer": "ipython3",
   "version": "3.8.5"
  }
 },
 "nbformat": 4,
 "nbformat_minor": 4
}
