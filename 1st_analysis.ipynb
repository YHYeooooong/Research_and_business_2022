{
 "cells": [
  {
   "cell_type": "code",
   "execution_count": 1,
   "metadata": {},
   "outputs": [],
   "source": [
    "import pandas as pd\n",
    "\n",
    "train_data = pd.read_excel('./drive-download-20221215T064857Z-001/df_total_train.xlsx')\n",
    "test_data = pd.read_excel('./drive-download-20221215T064857Z-001/df_total_test.xlsx')"
   ]
  },
  {
   "cell_type": "code",
   "execution_count": 2,
   "metadata": {},
   "outputs": [],
   "source": [
    "#eva air in temp_MAX\teva air out temp_MIN 에 over 결측치 존재. 결측치가 존재하는 행만 삭제\n",
    "train_over = train_data[(train_data['eva air out temp_MAX']=='+OVER') | (train_data['eva air out temp_MAX']=='-OVER')].index\n",
    "train_data.drop(train_over, inplace=True)\n",
    "train_over2 = train_data[(train_data['eva air out temp_MIN']=='+OVER') | (train_data['eva air out temp_MIN']=='-OVER')].index\n",
    "train_data.drop(train_over2, inplace=True)\n",
    "\n",
    "test_over = test_data[(test_data['eva air out temp_MAX']=='+OVER') | (test_data['eva air out temp_MAX']=='-OVER')].index\n",
    "test_data.drop(test_over, inplace=True)\n",
    "test_over2 = test_data[(test_data['eva air out temp_MIN']=='+OVER') | (test_data['eva air out temp_MIN']=='-OVER')].index\n",
    "test_data.drop(test_over2, inplace=True)\n",
    "test_over3 = test_data[(test_data['outside temp_MAX']=='+OVER')].index\n",
    "test_data.drop(test_over3, inplace=True)"
   ]
  },
  {
   "cell_type": "code",
   "execution_count": null,
   "metadata": {},
   "outputs": [],
   "source": []
  },
  {
   "cell_type": "code",
   "execution_count": 3,
   "metadata": {},
   "outputs": [],
   "source": [
    "train_data_X = train_data.iloc[:, :-1]\n",
    "train_data_y = train_data.iloc[:, -1]\n",
    "\n",
    "test_data_X = test_data.iloc[:, :-1]\n",
    "test_data_y = test_data.iloc[:, -1]"
   ]
  },
  {
   "cell_type": "code",
   "execution_count": 62,
   "metadata": {},
   "outputs": [
    {
     "name": "stdout",
     "output_type": "stream",
     "text": [
      "       T1_lp1_MIN  T1_lp1_MAX  T2_hp1_MIN  T2_hp1_MAX  T3_hp2_MIN  T3_hp2_MAX  \\\n",
      "0            3.30        3.43        7.43        7.72        7.21        7.58   \n",
      "1            3.13        3.20        7.88        8.00        7.76        7.89   \n",
      "2            3.06        3.13        8.00        8.12        7.89        8.01   \n",
      "3            2.82        3.06        8.12        8.14        8.01        8.04   \n",
      "4            2.67        2.82        8.05        8.12        7.95        8.02   \n",
      "...           ...         ...         ...         ...         ...         ...   \n",
      "77085        1.12        1.12        5.51        5.52        5.39        5.40   \n",
      "77086        1.12        1.13        5.52        5.53        5.40        5.41   \n",
      "77087        1.13        1.13        5.53        5.54        5.41        5.42   \n",
      "77088        1.13        1.14        5.53        5.54        5.41        5.42   \n",
      "77089        1.14        1.14        5.53        5.56        5.41        5.44   \n",
      "\n",
      "       T1_comp in_MIN  T1_comp in_MAX  T2_comp out_MIN  T2_comp out_MAX  ...  \\\n",
      "0                16.8            19.2             50.8             52.9  ...   \n",
      "1                14.2            15.2             53.6             54.0  ...   \n",
      "2                13.4            14.2             54.0             54.0  ...   \n",
      "3                12.4            13.4             53.9             54.0  ...   \n",
      "4                11.8            12.4             53.6             53.9  ...   \n",
      "...               ...             ...              ...              ...  ...   \n",
      "77085             4.2             4.2             41.9             41.9  ...   \n",
      "77086             4.1             4.2             41.9             41.9  ...   \n",
      "77087             4.1             4.2             41.9             42.0  ...   \n",
      "77088             4.1             4.1             42.0             42.0  ...   \n",
      "77089             4.0             4.1             42.0             42.1  ...   \n",
      "\n",
      "       eva air out temp_MAX  cond air in temp_MIN  cond air in temp_MAX  \\\n",
      "0                      19.3                  24.0                  24.1   \n",
      "1                      18.6                  24.2                  24.3   \n",
      "2                      18.4                  24.3                  24.4   \n",
      "3                      18.2                  24.4                  24.5   \n",
      "4                        18                  24.4                  24.5   \n",
      "...                     ...                   ...                   ...   \n",
      "77085                   4.6                  16.6                  16.7   \n",
      "77086                   4.6                  16.8                  16.9   \n",
      "77087                   4.5                  16.8                  16.9   \n",
      "77088                   4.4                  16.8                  16.9   \n",
      "77089                   4.5                  16.8                  16.9   \n",
      "\n",
      "       cond air out temp_MIN  cond air out temp_MAX  T8_1-T7_MIN  T8_1-T7_MAX  \\\n",
      "0                       28.0                   28.9         -0.9         -1.3   \n",
      "1                       29.5                   30.2         -1.3         -1.1   \n",
      "2                       30.2                   30.4         -1.3         -1.3   \n",
      "3                       30.4                   30.7         -0.7         -0.8   \n",
      "4                       30.4                   30.6          1.0          0.7   \n",
      "...                      ...                    ...          ...          ...   \n",
      "77085                   20.7                   20.7          4.9          5.0   \n",
      "77086                   20.8                   20.8          4.6          4.7   \n",
      "77087                   20.7                   20.8          4.5          4.5   \n",
      "77088                   20.8                   20.9          4.2          4.4   \n",
      "77089                   20.8                   20.9          3.9          4.2   \n",
      "\n",
      "       T8_2-T7_MIN  T8_2-T7_MAX  Heat_ON  \n",
      "0              1.2          0.7      Off  \n",
      "1              0.8          0.9      Off  \n",
      "2              0.6          0.8      Off  \n",
      "3              1.2          0.6      Off  \n",
      "4              2.4          1.8      Off  \n",
      "...            ...          ...      ...  \n",
      "77085          6.9          6.9       On  \n",
      "77086          6.8          6.7       On  \n",
      "77087          6.7          6.7       On  \n",
      "77088          6.5          6.6       On  \n",
      "77089          6.5          6.6       On  \n",
      "\n",
      "[73779 rows x 45 columns]\n",
      "       T1_lp1_MIN  T1_lp1_MAX  T2_hp1_MIN  T2_hp1_MAX  T3_hp2_MIN  T3_hp2_MAX  \\\n",
      "0            3.30        3.43        7.43        7.72        7.21        7.58   \n",
      "1            3.13        3.20        7.88        8.00        7.76        7.89   \n",
      "2            3.06        3.13        8.00        8.12        7.89        8.01   \n",
      "3            2.82        3.06        8.12        8.14        8.01        8.04   \n",
      "4            2.67        2.82        8.05        8.12        7.95        8.02   \n",
      "...           ...         ...         ...         ...         ...         ...   \n",
      "77085        1.12        1.12        5.51        5.52        5.39        5.40   \n",
      "77086        1.12        1.13        5.52        5.53        5.40        5.41   \n",
      "77087        1.13        1.13        5.53        5.54        5.41        5.42   \n",
      "77088        1.13        1.14        5.53        5.54        5.41        5.42   \n",
      "77089        1.14        1.14        5.53        5.56        5.41        5.44   \n",
      "\n",
      "       T1_comp in_MIN  T1_comp in_MAX  T2_comp out_MIN  T2_comp out_MAX  ...  \\\n",
      "0                16.8            19.2             50.8             52.9  ...   \n",
      "1                14.2            15.2             53.6             54.0  ...   \n",
      "2                13.4            14.2             54.0             54.0  ...   \n",
      "3                12.4            13.4             53.9             54.0  ...   \n",
      "4                11.8            12.4             53.6             53.9  ...   \n",
      "...               ...             ...              ...              ...  ...   \n",
      "77085             4.2             4.2             41.9             41.9  ...   \n",
      "77086             4.1             4.2             41.9             41.9  ...   \n",
      "77087             4.1             4.2             41.9             42.0  ...   \n",
      "77088             4.1             4.1             42.0             42.0  ...   \n",
      "77089             4.0             4.1             42.0             42.1  ...   \n",
      "\n",
      "       eva air out temp_MIN  eva air out temp_MAX  cond air in temp_MIN  \\\n",
      "0                        19                  19.3                  24.0   \n",
      "1                      18.4                  18.6                  24.2   \n",
      "2                      18.2                  18.4                  24.3   \n",
      "3                        18                  18.2                  24.4   \n",
      "4                      17.7                    18                  24.4   \n",
      "...                     ...                   ...                   ...   \n",
      "77085                   4.5                   4.6                  16.6   \n",
      "77086                   4.4                   4.6                  16.8   \n",
      "77087                   4.4                   4.5                  16.8   \n",
      "77088                   4.4                   4.4                  16.8   \n",
      "77089                   4.4                   4.5                  16.8   \n",
      "\n",
      "       cond air in temp_MAX  cond air out temp_MIN  cond air out temp_MAX  \\\n",
      "0                      24.1                   28.0                   28.9   \n",
      "1                      24.3                   29.5                   30.2   \n",
      "2                      24.4                   30.2                   30.4   \n",
      "3                      24.5                   30.4                   30.7   \n",
      "4                      24.5                   30.4                   30.6   \n",
      "...                     ...                    ...                    ...   \n",
      "77085                  16.7                   20.7                   20.7   \n",
      "77086                  16.9                   20.8                   20.8   \n",
      "77087                  16.9                   20.7                   20.8   \n",
      "77088                  16.9                   20.8                   20.9   \n",
      "77089                  16.9                   20.8                   20.9   \n",
      "\n",
      "       T8_1-T7_MIN  T8_1-T7_MAX  T8_2-T7_MIN  T8_2-T7_MAX  \n",
      "0             -0.9         -1.3          1.2          0.7  \n",
      "1             -1.3         -1.1          0.8          0.9  \n",
      "2             -1.3         -1.3          0.6          0.8  \n",
      "3             -0.7         -0.8          1.2          0.6  \n",
      "4              1.0          0.7          2.4          1.8  \n",
      "...            ...          ...          ...          ...  \n",
      "77085          4.9          5.0          6.9          6.9  \n",
      "77086          4.6          4.7          6.8          6.7  \n",
      "77087          4.5          4.5          6.7          6.7  \n",
      "77088          4.2          4.4          6.5          6.6  \n",
      "77089          3.9          4.2          6.5          6.6  \n",
      "\n",
      "[73779 rows x 44 columns]\n",
      "0        Off\n",
      "1        Off\n",
      "2        Off\n",
      "3        Off\n",
      "4        Off\n",
      "        ... \n",
      "77085     On\n",
      "77086     On\n",
      "77087     On\n",
      "77088     On\n",
      "77089     On\n",
      "Name: Heat_ON, Length: 73779, dtype: object\n"
     ]
    }
   ],
   "source": [
    "print(train_data)\n",
    "print(train_data_X)\n",
    "print(train_data_y)"
   ]
  },
  {
   "cell_type": "code",
   "execution_count": 64,
   "metadata": {},
   "outputs": [
    {
     "name": "stdout",
     "output_type": "stream",
     "text": [
      "0        Off\n",
      "1        Off\n",
      "2        Off\n",
      "3        Off\n",
      "4        Off\n",
      "        ... \n",
      "33034     On\n",
      "33035     On\n",
      "33036     On\n",
      "33037     On\n",
      "33038     On\n",
      "Name: Heat_ON, Length: 31594, dtype: object\n"
     ]
    }
   ],
   "source": [
    "print(test_data_y)"
   ]
  },
  {
   "cell_type": "code",
   "execution_count": 63,
   "metadata": {},
   "outputs": [
    {
     "data": {
      "text/plain": [
       "RandomForestClassifier()"
      ]
     },
     "execution_count": 63,
     "metadata": {},
     "output_type": "execute_result"
    }
   ],
   "source": [
    "from sklearn.ensemble import RandomForestClassifier\n",
    "import numpy as np\n",
    "import matplotlib.pyplot as plt\n",
    "\n",
    "forest = RandomForestClassifier()\n",
    "forest.fit(train_data_X, train_data_y)\n",
    "\n",
    "\n",
    "\n",
    "\n"
   ]
  },
  {
   "cell_type": "code",
   "execution_count": 64,
   "metadata": {},
   "outputs": [
    {
     "name": "stdout",
     "output_type": "stream",
     "text": [
      "Feature ranking\n",
      "1. feature eva air out temp_MIN (0.169)\n",
      "2. feature inside temp_MAX (0.116)\n",
      "3. feature inside temp_MIN (0.080)\n",
      "4. feature eva air out temp_MAX (0.080)\n",
      "5. feature eva air in temp_MIN (0.065)\n",
      "6. feature T2_comp out_MAX (0.063)\n",
      "7. feature center_MAX (0.058)\n",
      "8. feature eva air in temp_MAX (0.057)\n",
      "9. feature T2_comp out_MIN (0.033)\n",
      "10. feature T7_evap in_MAX (0.032)\n",
      "11. feature center_MIN (0.030)\n",
      "12. feature T1_lp1_MAX (0.028)\n",
      "13. feature T1_lp1_MIN (0.025)\n",
      "14. feature T6_Exp out_MAX (0.019)\n",
      "15. feature T10_sol out_MIN (0.018)\n",
      "16. feature T3_cond in_MAX (0.015)\n",
      "17. feature T7_evap in_MIN (0.014)\n",
      "18. feature T8_2-T7_MAX (0.013)\n",
      "19. feature T6_Exp out_MIN (0.011)\n",
      "20. feature T3_cond in_MIN (0.010)\n",
      "21. feature T8_2-T7_MIN (0.009)\n",
      "22. feature T1_comp in_MIN (0.007)\n",
      "23. feature T10_sol out_MAX (0.006)\n",
      "24. feature cond air out temp_MIN (0.005)\n",
      "25. feature T8_evap out1_MAX (0.005)\n",
      "26. feature outside temp_MAX (0.005)\n",
      "27. feature T1_comp in_MAX (0.004)\n",
      "28. feature T8_1-T7_MAX (0.004)\n",
      "29. feature T8_evap out2_MAX (0.003)\n",
      "30. feature T3_hp2_MIN (0.003)\n",
      "31. feature T8_evap out2_MIN (0.002)\n",
      "32. feature T8_evap out1_MIN (0.002)\n",
      "33. feature T2_hp1_MAX (0.002)\n",
      "34. feature T2_hp1_MIN (0.002)\n",
      "35. feature T3_hp2_MAX (0.002)\n",
      "36. feature cond air out temp_MAX (0.001)\n",
      "37. feature T4_cond out_MIN (0.000)\n",
      "38. feature T5_Exp in_MAX (0.000)\n",
      "39. feature cond air in temp_MAX (0.000)\n",
      "40. feature outside temp_MIN (0.000)\n",
      "41. feature T4_cond out_MAX (0.000)\n",
      "42. feature T8_1-T7_MIN (0.000)\n",
      "43. feature cond air in temp_MIN (0.000)\n",
      "44. feature T5_Exp in_MIN (0.000)\n"
     ]
    },
    {
     "data": {
      "image/png": "[encoded data removed]",
      "text/plain": [
       "<Figure size 432x288 with 1 Axes>"
      ]
     },
     "metadata": {
      "needs_background": "light"
     },
     "output_type": "display_data"
    }
   ],
   "source": [
    "importance = forest.feature_importances_\n",
    "std = np.std([tree.feature_importances_ for tree in forest.estimators_], axis=0)\n",
    "indices = np.argsort(importance)[::-1]\n",
    "\n",
    "print(\"Feature ranking\")\n",
    "\n",
    "for f in range(train_data_X.shape[1]) :\n",
    "    print(\"{}. feature {} ({:.3f})\".format(f+1, train_data_X.columns[indices][f], importance[indices[f]]))\n",
    "    \n",
    "plt.figure()\n",
    "plt.title(\"Feature importance\")\n",
    "plt.bar(range(train_data_X.shape[1]), importance[indices], color='r', align='center')\n",
    "plt.xticks(range(train_data_X.shape[1]), train_data_X.columns[indices], rotation=45)\n",
    "plt.xlim([-1, train_data_X.shape[1]])\n",
    "plt.show()"
   ]
  },
  {
   "cell_type": "code",
   "execution_count": 75,
   "metadata": {},
   "outputs": [
    {
     "name": "stdout",
     "output_type": "stream",
     "text": [
      "0.999778\n"
     ]
    }
   ],
   "source": [
    "from sklearn.metrics import accuracy_score\n",
    "\n",
    "pred = forest.predict(test_data_X)\n",
    "accuracy = accuracy_score(test_data_y, pred)\n",
    "print('{:4f}'.format(accuracy))"
   ]
  },
  {
   "cell_type": "markdown",
   "metadata": {},
   "source": [
    "Feautre selection : random forest"
   ]
  },
  {
   "cell_type": "code",
   "execution_count": 76,
   "metadata": {},
   "outputs": [
    {
     "name": "stdout",
     "output_type": "stream",
     "text": [
      "Fitting estimator with 44 features.\n",
      "Fitting estimator with 43 features.\n",
      "Fitting estimator with 42 features.\n",
      "Fitting estimator with 41 features.\n",
      "Fitting estimator with 40 features.\n",
      "Fitting estimator with 39 features.\n",
      "Fitting estimator with 38 features.\n",
      "Fitting estimator with 37 features.\n",
      "Fitting estimator with 36 features.\n",
      "Fitting estimator with 35 features.\n",
      "Fitting estimator with 34 features.\n",
      "Fitting estimator with 33 features.\n",
      "Fitting estimator with 32 features.\n",
      "Fitting estimator with 31 features.\n",
      "Fitting estimator with 30 features.\n",
      "Fitting estimator with 29 features.\n",
      "Fitting estimator with 28 features.\n",
      "Fitting estimator with 27 features.\n",
      "Fitting estimator with 26 features.\n",
      "Fitting estimator with 25 features.\n",
      "Fitting estimator with 24 features.\n",
      "Fitting estimator with 23 features.\n",
      "Fitting estimator with 22 features.\n",
      "Fitting estimator with 21 features.\n",
      "Fitting estimator with 20 features.\n",
      "Fitting estimator with 19 features.\n",
      "Fitting estimator with 18 features.\n",
      "Fitting estimator with 17 features.\n",
      "Fitting estimator with 16 features.\n",
      "Fitting estimator with 15 features.\n",
      "Fitting estimator with 14 features.\n",
      "Fitting estimator with 13 features.\n",
      "Fitting estimator with 12 features.\n",
      "Fitting estimator with 11 features.\n",
      "Fitting estimator with 10 features.\n",
      "Fitting estimator with 9 features.\n",
      "Fitting estimator with 8 features.\n",
      "Fitting estimator with 7 features.\n",
      "Fitting estimator with 6 features.\n",
      "Fitting estimator with 5 features.\n",
      "Fitting estimator with 4 features.\n",
      "Fitting estimator with 3 features.\n",
      "Fitting estimator with 2 features.\n",
      "Fitting estimator with 44 features.\n",
      "Fitting estimator with 43 features.\n",
      "Fitting estimator with 42 features.\n",
      "Fitting estimator with 41 features.\n",
      "Fitting estimator with 40 features.\n",
      "Fitting estimator with 39 features.\n",
      "Fitting estimator with 38 features.\n",
      "Fitting estimator with 37 features.\n",
      "Fitting estimator with 36 features.\n",
      "Fitting estimator with 35 features.\n",
      "Fitting estimator with 34 features.\n",
      "Fitting estimator with 33 features.\n",
      "Fitting estimator with 32 features.\n",
      "Fitting estimator with 31 features.\n",
      "Fitting estimator with 30 features.\n",
      "Fitting estimator with 29 features.\n",
      "Fitting estimator with 28 features.\n",
      "Fitting estimator with 27 features.\n",
      "Fitting estimator with 26 features.\n",
      "Fitting estimator with 25 features.\n",
      "Fitting estimator with 24 features.\n",
      "Fitting estimator with 23 features.\n",
      "Fitting estimator with 22 features.\n",
      "Fitting estimator with 21 features.\n",
      "Fitting estimator with 20 features.\n",
      "Fitting estimator with 19 features.\n",
      "Fitting estimator with 18 features.\n",
      "Fitting estimator with 17 features.\n",
      "Fitting estimator with 16 features.\n",
      "Fitting estimator with 15 features.\n",
      "Fitting estimator with 14 features.\n",
      "Fitting estimator with 13 features.\n",
      "Fitting estimator with 12 features.\n",
      "Fitting estimator with 11 features.\n",
      "Fitting estimator with 10 features.\n",
      "Fitting estimator with 9 features.\n",
      "Fitting estimator with 8 features.\n",
      "Fitting estimator with 7 features.\n",
      "Fitting estimator with 6 features.\n",
      "Fitting estimator with 5 features.\n",
      "Fitting estimator with 4 features.\n",
      "Fitting estimator with 3 features.\n",
      "Fitting estimator with 2 features.\n",
      "Fitting estimator with 44 features.\n",
      "Fitting estimator with 43 features.\n",
      "Fitting estimator with 42 features.\n",
      "Fitting estimator with 41 features.\n",
      "Fitting estimator with 40 features.\n",
      "Fitting estimator with 39 features.\n",
      "Fitting estimator with 38 features.\n",
      "Fitting estimator with 37 features.\n",
      "Fitting estimator with 36 features.\n",
      "Fitting estimator with 35 features.\n",
      "Fitting estimator with 34 features.\n",
      "Fitting estimator with 33 features.\n",
      "Fitting estimator with 32 features.\n",
      "Fitting estimator with 31 features.\n",
      "Fitting estimator with 30 features.\n",
      "Fitting estimator with 29 features.\n",
      "Fitting estimator with 28 features.\n",
      "Fitting estimator with 27 features.\n",
      "Fitting estimator with 26 features.\n",
      "Fitting estimator with 25 features.\n",
      "Fitting estimator with 24 features.\n",
      "Fitting estimator with 23 features.\n",
      "Fitting estimator with 22 features.\n",
      "Fitting estimator with 21 features.\n",
      "Fitting estimator with 20 features.\n",
      "Fitting estimator with 19 features.\n",
      "Fitting estimator with 18 features.\n",
      "Fitting estimator with 17 features.\n",
      "Fitting estimator with 16 features.\n",
      "Fitting estimator with 15 features.\n",
      "Fitting estimator with 14 features.\n",
      "Fitting estimator with 13 features.\n",
      "Fitting estimator with 12 features.\n",
      "Fitting estimator with 11 features.\n",
      "Fitting estimator with 10 features.\n",
      "Fitting estimator with 9 features.\n",
      "Fitting estimator with 8 features.\n",
      "Fitting estimator with 7 features.\n",
      "Fitting estimator with 6 features.\n",
      "Fitting estimator with 5 features.\n",
      "Fitting estimator with 4 features.\n",
      "Fitting estimator with 3 features.\n",
      "Fitting estimator with 2 features.\n",
      "Fitting estimator with 44 features.\n",
      "Fitting estimator with 43 features.\n",
      "Fitting estimator with 42 features.\n",
      "Fitting estimator with 41 features.\n",
      "Fitting estimator with 40 features.\n",
      "Fitting estimator with 39 features.\n",
      "Fitting estimator with 38 features.\n",
      "Fitting estimator with 37 features.\n",
      "Fitting estimator with 36 features.\n",
      "Fitting estimator with 35 features.\n",
      "Fitting estimator with 34 features.\n",
      "Fitting estimator with 33 features.\n",
      "Fitting estimator with 32 features.\n",
      "Fitting estimator with 31 features.\n",
      "Fitting estimator with 30 features.\n",
      "Fitting estimator with 29 features.\n",
      "Fitting estimator with 28 features.\n",
      "Fitting estimator with 27 features.\n",
      "Fitting estimator with 26 features.\n",
      "Fitting estimator with 25 features.\n",
      "Fitting estimator with 24 features.\n",
      "Fitting estimator with 23 features.\n",
      "Fitting estimator with 22 features.\n",
      "Fitting estimator with 21 features.\n",
      "Fitting estimator with 20 features.\n",
      "Fitting estimator with 19 features.\n",
      "Fitting estimator with 18 features.\n",
      "Fitting estimator with 17 features.\n",
      "Fitting estimator with 16 features.\n",
      "Fitting estimator with 15 features.\n",
      "Fitting estimator with 14 features.\n",
      "Fitting estimator with 13 features.\n",
      "Fitting estimator with 12 features.\n",
      "Fitting estimator with 11 features.\n",
      "Fitting estimator with 10 features.\n",
      "Fitting estimator with 9 features.\n",
      "Fitting estimator with 8 features.\n",
      "Fitting estimator with 7 features.\n",
      "Fitting estimator with 6 features.\n",
      "Fitting estimator with 5 features.\n",
      "Fitting estimator with 4 features.\n",
      "Fitting estimator with 3 features.\n",
      "Fitting estimator with 2 features.\n",
      "Fitting estimator with 44 features.\n",
      "Fitting estimator with 43 features.\n",
      "Fitting estimator with 42 features.\n",
      "Fitting estimator with 41 features.\n",
      "Fitting estimator with 40 features.\n",
      "Fitting estimator with 39 features.\n",
      "Fitting estimator with 38 features.\n",
      "Fitting estimator with 37 features.\n",
      "Fitting estimator with 36 features.\n",
      "Fitting estimator with 35 features.\n",
      "Fitting estimator with 34 features.\n",
      "Fitting estimator with 33 features.\n",
      "Fitting estimator with 32 features.\n",
      "Fitting estimator with 31 features.\n",
      "Fitting estimator with 30 features.\n",
      "Fitting estimator with 29 features.\n",
      "Fitting estimator with 28 features.\n",
      "Fitting estimator with 27 features.\n",
      "Fitting estimator with 26 features.\n",
      "Fitting estimator with 25 features.\n",
      "Fitting estimator with 24 features.\n",
      "Fitting estimator with 23 features.\n",
      "Fitting estimator with 22 features.\n",
      "Fitting estimator with 21 features.\n",
      "Fitting estimator with 20 features.\n",
      "Fitting estimator with 19 features.\n",
      "Fitting estimator with 18 features.\n",
      "Fitting estimator with 17 features.\n",
      "Fitting estimator with 16 features.\n",
      "Fitting estimator with 15 features.\n",
      "Fitting estimator with 14 features.\n",
      "Fitting estimator with 13 features.\n",
      "Fitting estimator with 12 features.\n",
      "Fitting estimator with 11 features.\n",
      "Fitting estimator with 10 features.\n",
      "Fitting estimator with 9 features.\n",
      "Fitting estimator with 8 features.\n",
      "Fitting estimator with 7 features.\n",
      "Fitting estimator with 6 features.\n",
      "Fitting estimator with 5 features.\n",
      "Fitting estimator with 4 features.\n",
      "Fitting estimator with 3 features.\n",
      "Fitting estimator with 2 features.\n",
      "Fitting estimator with 44 features.\n",
      "Fitting estimator with 43 features.\n",
      "Fitting estimator with 42 features.\n",
      "Fitting estimator with 41 features.\n",
      "Fitting estimator with 40 features.\n",
      "Fitting estimator with 39 features.\n",
      "Fitting estimator with 38 features.\n",
      "Fitting estimator with 37 features.\n",
      "Fitting estimator with 36 features.\n",
      "Fitting estimator with 35 features.\n",
      "Fitting estimator with 34 features.\n",
      "Fitting estimator with 33 features.\n",
      "Fitting estimator with 32 features.\n",
      "Fitting estimator with 31 features.\n"
     ]
    },
    {
     "name": "stdout",
     "output_type": "stream",
     "text": [
      "Fitting estimator with 30 features.\n",
      "Fitting estimator with 29 features.\n",
      "Fitting estimator with 28 features.\n",
      "Fitting estimator with 27 features.\n",
      "Fitting estimator with 26 features.\n",
      "Fitting estimator with 25 features.\n",
      "Fitting estimator with 24 features.\n",
      "Fitting estimator with 23 features.\n",
      "Fitting estimator with 22 features.\n",
      "Fitting estimator with 21 features.\n",
      "Fitting estimator with 20 features.\n",
      "Fitting estimator with 19 features.\n",
      "Fitting estimator with 18 features.\n",
      "Fitting estimator with 17 features.\n",
      "Fitting estimator with 16 features.\n",
      "Fitting estimator with 15 features.\n",
      "Fitting estimator with 14 features.\n",
      "Fitting estimator with 13 features.\n",
      "Fitting estimator with 12 features.\n",
      "Fitting estimator with 11 features.\n",
      "Fitting estimator with 10 features.\n",
      "Fitting estimator with 9 features.\n",
      "Fitting estimator with 8 features.\n",
      "Fitting estimator with 7 features.\n"
     ]
    },
    {
     "data": {
      "text/plain": [
       "RFECV(cv=5, estimator=RandomForestClassifier(), scoring='accuracy', verbose=2)"
      ]
     },
     "execution_count": 76,
     "metadata": {},
     "output_type": "execute_result"
    }
   ],
   "source": [
    "# feature selection\n",
    "from sklearn.feature_selection import RFECV, RFE\n",
    "\n",
    "forest2 = RandomForestClassifier()\n",
    "rfecv = RFECV(estimator=forest2, step=1, cv=5, scoring='accuracy', verbose=2)\n",
    "rfecv.fit(train_data_X, train_data_y)\n"
   ]
  },
  {
   "cell_type": "code",
   "execution_count": 79,
   "metadata": {},
   "outputs": [
    {
     "name": "stdout",
     "output_type": "stream",
     "text": [
      "6\n",
      "optimial number of features : 6\n"
     ]
    },
    {
     "data": {
      "text/plain": [
       "[<matplotlib.lines.Line2D at 0x1b3c727f8e0>]"
      ]
     },
     "execution_count": 79,
     "metadata": {},
     "output_type": "execute_result"
    },
    {
     "data": {
      "image/png": "[encoded data removed]",
      "text/plain": [
       "<Figure size 432x288 with 1 Axes>"
      ]
     },
     "metadata": {
      "needs_background": "light"
     },
     "output_type": "display_data"
    }
   ],
   "source": [
    "print(rfecv.support_.sum())\n",
    "\n",
    "print('optimial number of features : %d' % rfecv.n_features_)\n",
    "\n",
    "plt.figure()\n",
    "plt.xlabel(\"number of features selected\")\n",
    "plt.ylabel(\"cross validation score (accuracy)\")\n",
    "plt.plot(\n",
    "range(1, len(rfecv.grid_scores_)*1 + 1, 1), rfecv.grid_scores_,\n",
    ")"
   ]
  },
  {
   "cell_type": "code",
   "execution_count": 80,
   "metadata": {},
   "outputs": [
    {
     "name": "stdout",
     "output_type": "stream",
     "text": [
      "[ 7  9 31 24 22 32 13 19  1  5 11 12 30 28 39 37 16 10  3  1 14 21 18 23\n",
      " 17 20  1  1  6  8 38 35  1  2  1  4 34 36 27 26 33 29 15 25]\n"
     ]
    }
   ],
   "source": [
    "print(rfecv.ranking_)"
   ]
  },
  {
   "cell_type": "code",
   "execution_count": 81,
   "metadata": {},
   "outputs": [
    {
     "name": "stdout",
     "output_type": "stream",
     "text": [
      "[0.13362247 0.0930181  0.17105192 0.16850955 0.08900241 0.34479556]\n"
     ]
    }
   ],
   "source": [
    "print(rfecv.estimator_.feature_importances_ )"
   ]
  },
  {
   "cell_type": "code",
   "execution_count": 89,
   "metadata": {},
   "outputs": [
    {
     "name": "stdout",
     "output_type": "stream",
     "text": [
      "all_features :  44\n",
      "['T1_lp1_MIN' 'T1_lp1_MAX' 'T2_hp1_MIN' 'T2_hp1_MAX' 'T3_hp2_MIN'\n",
      " 'T3_hp2_MAX' 'T1_comp in_MIN' 'T1_comp in_MAX' 'T2_comp out_MIN'\n",
      " 'T2_comp out_MAX' 'T3_cond in_MIN' 'T3_cond in_MAX' 'T4_cond out_MIN'\n",
      " 'T4_cond out_MAX' 'T5_Exp in_MIN' 'T5_Exp in_MAX' 'T6_Exp out_MIN'\n",
      " 'T6_Exp out_MAX' 'T7_evap in_MIN' 'T7_evap in_MAX' 'T8_evap out1_MIN'\n",
      " 'T8_evap out1_MAX' 'T8_evap out2_MIN' 'T8_evap out2_MAX'\n",
      " 'T10_sol out_MIN' 'T10_sol out_MAX' 'inside temp_MIN' 'inside temp_MAX'\n",
      " 'center_MIN' 'center_MAX' 'outside temp_MIN' 'outside temp_MAX'\n",
      " 'eva air in temp_MIN' 'eva air in temp_MAX' 'eva air out temp_MIN'\n",
      " 'eva air out temp_MAX' 'cond air in temp_MIN' 'cond air in temp_MAX'\n",
      " 'cond air out temp_MIN' 'cond air out temp_MAX' 'T8_1-T7_MIN'\n",
      " 'T8_1-T7_MAX' 'T8_2-T7_MIN' 'T8_2-T7_MAX']\n",
      "\n",
      "Selected best :  6\n",
      "['T2_comp out_MIN' 'T7_evap in_MAX' 'inside temp_MIN' 'inside temp_MAX'\n",
      " 'eva air in temp_MIN' 'eva air out temp_MIN']\n"
     ]
    }
   ],
   "source": [
    "mask = rfecv.get_support()\n",
    "features = np.array(train_data_X.columns)\n",
    "best_features = features[mask]\n",
    "\n",
    "print('all_features : ', train_data_X.shape[1])\n",
    "print(features)\n",
    "print()\n",
    "print('Selected best : ', best_features.shape[0])\n",
    "print(features[mask])"
   ]
  },
  {
   "cell_type": "code",
   "execution_count": 22,
   "metadata": {},
   "outputs": [
    {
     "name": "stdout",
     "output_type": "stream",
     "text": [
      "0.999399\n"
     ]
    }
   ],
   "source": [
    "from sklearn.metrics import accuracy_score\n",
    "from sklearn.ensemble import RandomForestClassifier\n",
    "\n",
    "selected_train_X = train_data_X.loc[:,['T2_comp out_MIN', 'T7_evap in_MAX', 'inside temp_MIN', 'inside temp_MAX', \n",
    "                                    'eva air in temp_MIN', 'eva air out temp_MIN']]\n",
    "selected_test_X = test_data_X.loc[:,['T2_comp out_MIN', 'T7_evap in_MAX', 'inside temp_MIN', 'inside temp_MAX', \n",
    "                                    'eva air in temp_MIN', 'eva air out temp_MIN']]\n",
    "forest_selected = RandomForestClassifier()\n",
    "forest_selected.fit(selected_train_X, train_data_y)\n",
    "pred_for_selected = forest_selected.predict(selected_test_X)\n",
    "saccuracy = accuracy_score(test_data_y, pred_for_selected)\n",
    "print('{:4f}'.format(saccuracy))"
   ]
  },
  {
   "cell_type": "code",
   "execution_count": 40,
   "metadata": {},
   "outputs": [
    {
     "name": "stdout",
     "output_type": "stream",
     "text": [
      "0.998829\n"
     ]
    }
   ],
   "source": [
    "#회사에서 언급한 것들 학습 후 결과 rbf 커널 사용\n",
    "sfor_X_com = train_data_X.loc[:,['T7_evap in_MIN', 'T7_evap in_MAX', 'T8_evap out1_MIN', 'T8_evap out1_MAX', \n",
    "                                 'T8_evap out2_MIN', 'T8_evap out2_MAX', 'inside temp_MIN', 'inside temp_MAX']]\n",
    "sfor_x_com= test_data_X.loc[:,['T7_evap in_MIN', 'T7_evap in_MAX', 'T8_evap out1_MIN', 'T8_evap out1_MAX', \n",
    "                                 'T8_evap out2_MIN', 'T8_evap out2_MAX', 'inside temp_MIN', 'inside temp_MAX']]\n",
    "selected_for = RandomForestClassifier()\n",
    "selected_for.fit(sfor_X_com , train_data_y)\n",
    "pred_for_for = selected_for.predict(sfor_x_com)\n",
    "for_acc= accuracy_score(test_data_y, pred_for_for)\n",
    "print('{:4f}'.format(for_acc))"
   ]
  },
  {
   "cell_type": "code",
   "execution_count": 41,
   "metadata": {},
   "outputs": [
    {
     "name": "stdout",
     "output_type": "stream",
     "text": [
      "0.998861\n"
     ]
    }
   ],
   "source": [
    "#회사에서 언급한 것들 + 입출구 차 학습 후 결과 rbf 커널 사용\n",
    "sfor_X_com = train_data_X.loc[:,['T7_evap in_MIN', 'T7_evap in_MAX', 'T8_evap out1_MIN', 'T8_evap out1_MAX', \n",
    "                                 'T8_evap out2_MIN', 'T8_evap out2_MAX', 'inside temp_MIN', 'inside temp_MAX',\n",
    "                                 'T8_1-T7_MIN', 'T8_1-T7_MAX', 'T8_2-T7_MIN', 'T8_2-T7_MAX']]\n",
    "sfor_x_com= test_data_X.loc[:,['T7_evap in_MIN', 'T7_evap in_MAX', 'T8_evap out1_MIN', 'T8_evap out1_MAX', \n",
    "                                 'T8_evap out2_MIN', 'T8_evap out2_MAX', 'inside temp_MIN', 'inside temp_MAX'\n",
    "                              , 'T8_1-T7_MIN', 'T8_1-T7_MAX', 'T8_2-T7_MIN', 'T8_2-T7_MAX']]\n",
    "selected_for = RandomForestClassifier()\n",
    "selected_for.fit(sfor_X_com , train_data_y)\n",
    "pred_for_for = selected_for.predict(sfor_x_com)\n",
    "for_acc= accuracy_score(test_data_y, pred_for_for)\n",
    "print('{:4f}'.format(for_acc))"
   ]
  },
  {
   "cell_type": "code",
   "execution_count": 42,
   "metadata": {},
   "outputs": [
    {
     "name": "stdout",
     "output_type": "stream",
     "text": [
      "0.998576\n"
     ]
    }
   ],
   "source": [
    "#=입출구 차 , 고내온도, 학습 후 결과 rbf 커널 사용\n",
    "sfor_X_com = train_data_X.loc[:,['inside temp_MIN', 'inside temp_MAX',\n",
    "                                 'T8_1-T7_MIN', 'T8_1-T7_MAX', 'T8_2-T7_MIN', 'T8_2-T7_MAX']]\n",
    "sfor_x_com= test_data_X.loc[:,['inside temp_MIN', 'inside temp_MAX'\n",
    "                              , 'T8_1-T7_MIN', 'T8_1-T7_MAX', 'T8_2-T7_MIN', 'T8_2-T7_MAX']]\n",
    "selected_for = RandomForestClassifier()\n",
    "selected_for.fit(sfor_X_com , train_data_y)\n",
    "pred_for_for = selected_for.predict(sfor_x_com)\n",
    "for_acc= accuracy_score(test_data_y, pred_for_for)\n",
    "print('{:4f}'.format(for_acc))"
   ]
  },
  {
   "cell_type": "code",
   "execution_count": 47,
   "metadata": {},
   "outputs": [
    {
     "name": "stdout",
     "output_type": "stream",
     "text": [
      "0.998512\n"
     ]
    }
   ],
   "source": [
    "#회사에서 언급한 것들 + 입출구 차 학습 후(min) 결과 rbf 커널 사용\n",
    "sfor_X_com = train_data_X.loc[:,['T7_evap in_MIN','T8_evap out1_MIN', \n",
    "                                 'T8_evap out2_MIN',  'inside temp_MIN',\n",
    "                                 'T8_1-T7_MIN',  'T8_2-T7_MIN']]\n",
    "sfor_x_com= test_data_X.loc[:,['T7_evap in_MIN', 'T8_evap out1_MIN',  \n",
    "                                 'T8_evap out2_MIN',  'inside temp_MIN', \n",
    "                               'T8_1-T7_MIN',  'T8_2-T7_MIN']]\n",
    "selected_for = RandomForestClassifier()\n",
    "selected_for.fit(sfor_X_com , train_data_y)\n",
    "pred_for_for = selected_for.predict(sfor_x_com)\n",
    "for_acc= accuracy_score(test_data_y, pred_for_for)\n",
    "print('{:4f}'.format(for_acc))"
   ]
  },
  {
   "cell_type": "code",
   "execution_count": 48,
   "metadata": {},
   "outputs": [
    {
     "name": "stdout",
     "output_type": "stream",
     "text": [
      "0.998702\n"
     ]
    }
   ],
   "source": [
    "#회사에서 언급한 것들 + 입출구 차 학습(max) 후 결과 rbf 커널 사용\n",
    "sfor_X_com = train_data_X.loc[:,['T7_evap in_MAX',  'T8_evap out1_MAX', \n",
    "                                 'T8_evap out2_MAX',  'inside temp_MAX',\n",
    "                                 'T8_1-T7_MAX',  'T8_2-T7_MAX']]\n",
    "sfor_x_com= test_data_X.loc[:,['T7_evap in_MAX',  'T8_evap out1_MAX', \n",
    "                                  'T8_evap out2_MAX','inside temp_MAX'\n",
    "                              , 'T8_1-T7_MAX', 'T8_2-T7_MAX']]\n",
    "selected_for = RandomForestClassifier()\n",
    "selected_for.fit(sfor_X_com , train_data_y)\n",
    "pred_for_for = selected_for.predict(sfor_x_com)\n",
    "for_acc= accuracy_score(test_data_y, pred_for_for)\n",
    "print('{:4f}'.format(for_acc))"
   ]
  },
  {
   "cell_type": "code",
   "execution_count": 49,
   "metadata": {},
   "outputs": [
    {
     "name": "stdout",
     "output_type": "stream",
     "text": [
      "0.998702\n"
     ]
    }
   ],
   "source": [
    "#회사에서 언급한 것들 학습 후 결과(센서 1번) rbf 커널 사용\n",
    "sfor_X_com = train_data_X.loc[:,['T7_evap in_MIN', 'T7_evap in_MAX', 'T8_evap out1_MIN', 'T8_evap out1_MAX', \n",
    "                                 'inside temp_MIN', 'inside temp_MAX',\n",
    "                                 'T8_1-T7_MIN', 'T8_1-T7_MAX',]]\n",
    "sfor_x_com= test_data_X.loc[:,['T7_evap in_MIN', 'T7_evap in_MAX', 'T8_evap out1_MIN', 'T8_evap out1_MAX', \n",
    "                               'inside temp_MIN', 'inside temp_MAX',\n",
    "                                 'T8_1-T7_MIN', 'T8_1-T7_MAX', ]]\n",
    "selected_for = RandomForestClassifier()\n",
    "selected_for.fit(sfor_X_com , train_data_y)\n",
    "pred_for_for = selected_for.predict(sfor_x_com)\n",
    "for_acc= accuracy_score(test_data_y, pred_for_for)\n",
    "print('{:4f}'.format(for_acc))"
   ]
  },
  {
   "cell_type": "code",
   "execution_count": 50,
   "metadata": {},
   "outputs": [
    {
     "name": "stdout",
     "output_type": "stream",
     "text": [
      "0.998861\n"
     ]
    }
   ],
   "source": [
    "#회사에서 언급한 것들 + 입출구 차 학습 후 결과(센서 2번) rbf 커널 사용\n",
    "sfor_X_com = train_data_X.loc[:,['T7_evap in_MIN', 'T7_evap in_MAX', \n",
    "                                 'T8_evap out2_MIN', 'T8_evap out2_MAX', 'inside temp_MIN', 'inside temp_MAX',\n",
    "                                'T8_2-T7_MIN', 'T8_2-T7_MAX']]\n",
    "sfor_x_com= test_data_X.loc[:,['T7_evap in_MIN', 'T7_evap in_MAX',\n",
    "                                 'T8_evap out2_MIN', 'T8_evap out2_MAX', 'inside temp_MIN', 'inside temp_MAX',\n",
    "                               'T8_2-T7_MIN', 'T8_2-T7_MAX']]\n",
    "selected_for = RandomForestClassifier()\n",
    "selected_for.fit(sfor_X_com , train_data_y)\n",
    "pred_for_for = selected_for.predict(sfor_x_com)\n",
    "for_acc= accuracy_score(test_data_y, pred_for_for)\n",
    "print('{:4f}'.format(for_acc))"
   ]
  },
  {
   "cell_type": "code",
   "execution_count": 52,
   "metadata": {},
   "outputs": [
    {
     "name": "stdout",
     "output_type": "stream",
     "text": [
      "0.882826\n"
     ]
    }
   ],
   "source": [
    "#회사에서 언급한 것들 + 입출구 차 학습 후 결과 rbf 커널 사용\n",
    "sfor_X_com = train_data_X.loc[:,['T7_evap in_MIN', 'T7_evap in_MAX']]\n",
    "sfor_x_com= test_data_X.loc[:,['T7_evap in_MIN', 'T7_evap in_MAX']]\n",
    "selected_for = RandomForestClassifier()\n",
    "selected_for.fit(sfor_X_com , train_data_y)\n",
    "pred_for_for = selected_for.predict(sfor_x_com)\n",
    "for_acc= accuracy_score(test_data_y, pred_for_for)\n",
    "print('{:4f}'.format(for_acc))"
   ]
  },
  {
   "cell_type": "code",
   "execution_count": 53,
   "metadata": {},
   "outputs": [
    {
     "name": "stdout",
     "output_type": "stream",
     "text": [
      "0.787903\n"
     ]
    }
   ],
   "source": [
    "#회사에서 언급한 것들 + 입출구 차 학습 후 결과 rbf 커널 사용\n",
    "sfor_X_com = train_data_X.loc[:,['T8_evap out1_MIN', 'T8_evap out1_MAX']]\n",
    "sfor_x_com= test_data_X.loc[:,['T8_evap out1_MIN', 'T8_evap out1_MAX']]\n",
    "selected_for = RandomForestClassifier()\n",
    "selected_for.fit(sfor_X_com , train_data_y)\n",
    "pred_for_for = selected_for.predict(sfor_x_com)\n",
    "for_acc= accuracy_score(test_data_y, pred_for_for)\n",
    "print('{:4f}'.format(for_acc))"
   ]
  },
  {
   "cell_type": "code",
   "execution_count": 54,
   "metadata": {},
   "outputs": [
    {
     "name": "stdout",
     "output_type": "stream",
     "text": [
      "0.839463\n"
     ]
    }
   ],
   "source": [
    "#회사에서 언급한 것들 + 입출구 차 학습 후 결과 rbf 커널 사용\n",
    "sfor_X_com = train_data_X.loc[:,[\n",
    "                                 'T8_evap out2_MIN', 'T8_evap out2_MAX']]\n",
    "sfor_x_com= test_data_X.loc[:,['T8_evap out2_MIN', 'T8_evap out2_MAX']]\n",
    "selected_for = RandomForestClassifier()\n",
    "selected_for.fit(sfor_X_com , train_data_y)\n",
    "pred_for_for = selected_for.predict(sfor_x_com)\n",
    "for_acc= accuracy_score(test_data_y, pred_for_for)\n",
    "print('{:4f}'.format(for_acc))"
   ]
  },
  {
   "cell_type": "code",
   "execution_count": 55,
   "metadata": {},
   "outputs": [
    {
     "name": "stdout",
     "output_type": "stream",
     "text": [
      "0.943502\n"
     ]
    }
   ],
   "source": [
    "#회사에서 언급한 것들 + 입출구 차 학습 후 결과 rbf 커널 사용\n",
    "sfor_X_com = train_data_X.loc[:,['inside temp_MIN', 'inside temp_MAX']]\n",
    "sfor_x_com= test_data_X.loc[:,['inside temp_MIN', 'inside temp_MAX']]\n",
    "selected_for = RandomForestClassifier()\n",
    "selected_for.fit(sfor_X_com , train_data_y)\n",
    "pred_for_for = selected_for.predict(sfor_x_com)\n",
    "for_acc= accuracy_score(test_data_y, pred_for_for)\n",
    "print('{:4f}'.format(for_acc))"
   ]
  },
  {
   "cell_type": "code",
   "execution_count": 56,
   "metadata": {},
   "outputs": [
    {
     "name": "stdout",
     "output_type": "stream",
     "text": [
      "0.892100\n"
     ]
    }
   ],
   "source": [
    "#회사에서 언급한 것들 + 입출구 차 학습 후 결과 rbf 커널 사용\n",
    "sfor_X_com = train_data_X.loc[:,['T8_1-T7_MIN', 'T8_1-T7_MAX']]\n",
    "sfor_x_com= test_data_X.loc[:,['T8_1-T7_MIN', 'T8_1-T7_MAX']]\n",
    "selected_for = RandomForestClassifier()\n",
    "selected_for.fit(sfor_X_com , train_data_y)\n",
    "pred_for_for = selected_for.predict(sfor_x_com)\n",
    "for_acc= accuracy_score(test_data_y, pred_for_for)\n",
    "print('{:4f}'.format(for_acc))"
   ]
  },
  {
   "cell_type": "code",
   "execution_count": 57,
   "metadata": {},
   "outputs": [
    {
     "name": "stdout",
     "output_type": "stream",
     "text": [
      "0.941286\n"
     ]
    }
   ],
   "source": [
    "#회사에서 언급한 것들 + 입출구 차 학습 후 결과 rbf 커널 사용\n",
    "sfor_X_com = train_data_X.loc[:,['T8_2-T7_MIN', 'T8_2-T7_MAX']]\n",
    "sfor_x_com= test_data_X.loc[:,['T8_2-T7_MIN', 'T8_2-T7_MAX']]\n",
    "selected_for = RandomForestClassifier()\n",
    "selected_for.fit(sfor_X_com , train_data_y)\n",
    "pred_for_for = selected_for.predict(sfor_x_com)\n",
    "for_acc= accuracy_score(test_data_y, pred_for_for)\n",
    "print('{:4f}'.format(for_acc))"
   ]
  },
  {
   "cell_type": "markdown",
   "metadata": {},
   "source": [
    "random forest의 경우, 출입구 온도센서 값 + 고내 온도 + 출입구 온도센서 차이를 사용했을 때, 가장 높은 정확도를 보임\n",
    "\n",
    "min, max값을 따로 사용할 경우, 정확도가 하락함. 만약, 하나만 사용한다면 max값이 더 나을듯\n",
    "\n",
    "센서를 하나만 쓴다면, 2번센서가 좋음\n",
    "\n",
    "값을 하나만 쓴다면 2번 센서와의 차이가 가장 좋음"
   ]
  },
  {
   "cell_type": "markdown",
   "metadata": {},
   "source": [
    "feature selection : SVM"
   ]
  },
  {
   "cell_type": "code",
   "execution_count": 6,
   "metadata": {},
   "outputs": [
    {
     "name": "stdout",
     "output_type": "stream",
     "text": [
      "Fitting estimator with 44 features.\n",
      "Fitting estimator with 43 features.\n",
      "Fitting estimator with 42 features.\n",
      "Fitting estimator with 41 features.\n",
      "Fitting estimator with 40 features.\n",
      "Fitting estimator with 39 features.\n",
      "Fitting estimator with 38 features.\n",
      "Fitting estimator with 37 features.\n",
      "Fitting estimator with 36 features.\n",
      "Fitting estimator with 35 features.\n",
      "Fitting estimator with 34 features.\n",
      "Fitting estimator with 33 features.\n",
      "Fitting estimator with 32 features.\n",
      "Fitting estimator with 31 features.\n",
      "Fitting estimator with 30 features.\n",
      "Fitting estimator with 29 features.\n",
      "Fitting estimator with 28 features.\n",
      "Fitting estimator with 27 features.\n",
      "Fitting estimator with 26 features.\n",
      "Fitting estimator with 25 features.\n",
      "Fitting estimator with 24 features.\n",
      "Fitting estimator with 23 features.\n",
      "Fitting estimator with 22 features.\n",
      "Fitting estimator with 21 features.\n",
      "Fitting estimator with 20 features.\n",
      "Fitting estimator with 19 features.\n",
      "Fitting estimator with 18 features.\n",
      "Fitting estimator with 17 features.\n",
      "Fitting estimator with 16 features.\n",
      "Fitting estimator with 15 features.\n",
      "Fitting estimator with 14 features.\n",
      "Fitting estimator with 13 features.\n",
      "Fitting estimator with 12 features.\n",
      "Fitting estimator with 11 features.\n",
      "Fitting estimator with 10 features.\n",
      "Fitting estimator with 9 features.\n",
      "Fitting estimator with 8 features.\n",
      "Fitting estimator with 7 features.\n",
      "Fitting estimator with 6 features.\n",
      "Fitting estimator with 5 features.\n",
      "Fitting estimator with 4 features.\n",
      "Fitting estimator with 3 features.\n",
      "Fitting estimator with 2 features.\n",
      "Fitting estimator with 44 features.\n",
      "Fitting estimator with 43 features.\n",
      "Fitting estimator with 42 features.\n",
      "Fitting estimator with 41 features.\n",
      "Fitting estimator with 40 features.\n",
      "Fitting estimator with 39 features.\n",
      "Fitting estimator with 38 features.\n",
      "Fitting estimator with 37 features.\n",
      "Fitting estimator with 36 features.\n",
      "Fitting estimator with 35 features.\n",
      "Fitting estimator with 34 features.\n",
      "Fitting estimator with 33 features.\n",
      "Fitting estimator with 32 features.\n",
      "Fitting estimator with 31 features.\n",
      "Fitting estimator with 30 features.\n",
      "Fitting estimator with 29 features.\n",
      "Fitting estimator with 28 features.\n",
      "Fitting estimator with 27 features.\n",
      "Fitting estimator with 26 features.\n",
      "Fitting estimator with 25 features.\n",
      "Fitting estimator with 24 features.\n",
      "Fitting estimator with 23 features.\n",
      "Fitting estimator with 22 features.\n",
      "Fitting estimator with 21 features.\n",
      "Fitting estimator with 20 features.\n",
      "Fitting estimator with 19 features.\n",
      "Fitting estimator with 18 features.\n",
      "Fitting estimator with 17 features.\n",
      "Fitting estimator with 16 features.\n",
      "Fitting estimator with 15 features.\n",
      "Fitting estimator with 14 features.\n",
      "Fitting estimator with 13 features.\n",
      "Fitting estimator with 12 features.\n",
      "Fitting estimator with 11 features.\n",
      "Fitting estimator with 10 features.\n",
      "Fitting estimator with 9 features.\n",
      "Fitting estimator with 8 features.\n",
      "Fitting estimator with 7 features.\n",
      "Fitting estimator with 6 features.\n",
      "Fitting estimator with 5 features.\n",
      "Fitting estimator with 4 features.\n",
      "Fitting estimator with 3 features.\n",
      "Fitting estimator with 2 features.\n",
      "Fitting estimator with 44 features.\n",
      "Fitting estimator with 43 features.\n",
      "Fitting estimator with 42 features.\n",
      "Fitting estimator with 41 features.\n",
      "Fitting estimator with 40 features.\n",
      "Fitting estimator with 39 features.\n",
      "Fitting estimator with 38 features.\n",
      "Fitting estimator with 37 features.\n",
      "Fitting estimator with 36 features.\n",
      "Fitting estimator with 35 features.\n",
      "Fitting estimator with 34 features.\n",
      "Fitting estimator with 33 features.\n",
      "Fitting estimator with 32 features.\n",
      "Fitting estimator with 31 features.\n",
      "Fitting estimator with 30 features.\n",
      "Fitting estimator with 29 features.\n",
      "Fitting estimator with 28 features.\n",
      "Fitting estimator with 27 features.\n",
      "Fitting estimator with 26 features.\n",
      "Fitting estimator with 25 features.\n",
      "Fitting estimator with 24 features.\n",
      "Fitting estimator with 23 features.\n",
      "Fitting estimator with 22 features.\n",
      "Fitting estimator with 21 features.\n",
      "Fitting estimator with 20 features.\n",
      "Fitting estimator with 19 features.\n",
      "Fitting estimator with 18 features.\n",
      "Fitting estimator with 17 features.\n",
      "Fitting estimator with 16 features.\n",
      "Fitting estimator with 15 features.\n",
      "Fitting estimator with 14 features.\n",
      "Fitting estimator with 13 features.\n",
      "Fitting estimator with 12 features.\n",
      "Fitting estimator with 11 features.\n",
      "Fitting estimator with 10 features.\n",
      "Fitting estimator with 9 features.\n",
      "Fitting estimator with 8 features.\n",
      "Fitting estimator with 7 features.\n",
      "Fitting estimator with 6 features.\n",
      "Fitting estimator with 5 features.\n",
      "Fitting estimator with 4 features.\n",
      "Fitting estimator with 3 features.\n",
      "Fitting estimator with 2 features.\n",
      "Fitting estimator with 44 features.\n",
      "Fitting estimator with 43 features.\n",
      "Fitting estimator with 42 features.\n",
      "Fitting estimator with 41 features.\n",
      "Fitting estimator with 40 features.\n",
      "Fitting estimator with 39 features.\n",
      "Fitting estimator with 38 features.\n",
      "Fitting estimator with 37 features.\n",
      "Fitting estimator with 36 features.\n",
      "Fitting estimator with 35 features.\n",
      "Fitting estimator with 34 features.\n",
      "Fitting estimator with 33 features.\n",
      "Fitting estimator with 32 features.\n",
      "Fitting estimator with 31 features.\n",
      "Fitting estimator with 30 features.\n",
      "Fitting estimator with 29 features.\n",
      "Fitting estimator with 28 features.\n",
      "Fitting estimator with 27 features.\n",
      "Fitting estimator with 26 features.\n",
      "Fitting estimator with 25 features.\n",
      "Fitting estimator with 24 features.\n",
      "Fitting estimator with 23 features.\n",
      "Fitting estimator with 22 features.\n",
      "Fitting estimator with 21 features.\n",
      "Fitting estimator with 20 features.\n",
      "Fitting estimator with 19 features.\n",
      "Fitting estimator with 18 features.\n",
      "Fitting estimator with 17 features.\n",
      "Fitting estimator with 16 features.\n",
      "Fitting estimator with 15 features.\n",
      "Fitting estimator with 14 features.\n",
      "Fitting estimator with 13 features.\n",
      "Fitting estimator with 12 features.\n",
      "Fitting estimator with 11 features.\n",
      "Fitting estimator with 10 features.\n",
      "Fitting estimator with 9 features.\n",
      "Fitting estimator with 8 features.\n",
      "Fitting estimator with 7 features.\n",
      "Fitting estimator with 6 features.\n",
      "Fitting estimator with 5 features.\n",
      "Fitting estimator with 4 features.\n",
      "Fitting estimator with 3 features.\n",
      "Fitting estimator with 2 features.\n",
      "Fitting estimator with 44 features.\n",
      "Fitting estimator with 43 features.\n",
      "Fitting estimator with 42 features.\n",
      "Fitting estimator with 41 features.\n",
      "Fitting estimator with 40 features.\n",
      "Fitting estimator with 39 features.\n",
      "Fitting estimator with 38 features.\n",
      "Fitting estimator with 37 features.\n",
      "Fitting estimator with 36 features.\n",
      "Fitting estimator with 35 features.\n",
      "Fitting estimator with 34 features.\n",
      "Fitting estimator with 33 features.\n",
      "Fitting estimator with 32 features.\n",
      "Fitting estimator with 31 features.\n",
      "Fitting estimator with 30 features.\n",
      "Fitting estimator with 29 features.\n",
      "Fitting estimator with 28 features.\n",
      "Fitting estimator with 27 features.\n",
      "Fitting estimator with 26 features.\n",
      "Fitting estimator with 25 features.\n",
      "Fitting estimator with 24 features.\n",
      "Fitting estimator with 23 features.\n",
      "Fitting estimator with 22 features.\n",
      "Fitting estimator with 21 features.\n",
      "Fitting estimator with 20 features.\n",
      "Fitting estimator with 19 features.\n",
      "Fitting estimator with 18 features.\n",
      "Fitting estimator with 17 features.\n",
      "Fitting estimator with 16 features.\n",
      "Fitting estimator with 15 features.\n",
      "Fitting estimator with 14 features.\n",
      "Fitting estimator with 13 features.\n",
      "Fitting estimator with 12 features.\n",
      "Fitting estimator with 11 features.\n",
      "Fitting estimator with 10 features.\n",
      "Fitting estimator with 9 features.\n",
      "Fitting estimator with 8 features.\n",
      "Fitting estimator with 7 features.\n",
      "Fitting estimator with 6 features.\n",
      "Fitting estimator with 5 features.\n",
      "Fitting estimator with 4 features.\n",
      "Fitting estimator with 3 features.\n",
      "Fitting estimator with 2 features.\n",
      "Fitting estimator with 44 features.\n",
      "Fitting estimator with 43 features.\n",
      "Fitting estimator with 42 features.\n",
      "Fitting estimator with 41 features.\n",
      "Fitting estimator with 40 features.\n",
      "Fitting estimator with 39 features.\n",
      "Fitting estimator with 38 features.\n",
      "Fitting estimator with 37 features.\n",
      "Fitting estimator with 36 features.\n",
      "Fitting estimator with 35 features.\n",
      "Fitting estimator with 34 features.\n",
      "Fitting estimator with 33 features.\n",
      "Fitting estimator with 32 features.\n",
      "Fitting estimator with 31 features.\n"
     ]
    },
    {
     "name": "stdout",
     "output_type": "stream",
     "text": [
      "Fitting estimator with 30 features.\n",
      "Fitting estimator with 29 features.\n",
      "Fitting estimator with 28 features.\n",
      "Fitting estimator with 27 features.\n",
      "Fitting estimator with 26 features.\n",
      "Fitting estimator with 25 features.\n",
      "Fitting estimator with 24 features.\n",
      "Fitting estimator with 23 features.\n",
      "Fitting estimator with 22 features.\n",
      "Fitting estimator with 21 features.\n",
      "Fitting estimator with 20 features.\n",
      "Fitting estimator with 19 features.\n",
      "Fitting estimator with 18 features.\n",
      "Fitting estimator with 17 features.\n",
      "Fitting estimator with 16 features.\n",
      "Fitting estimator with 15 features.\n",
      "Fitting estimator with 14 features.\n",
      "Fitting estimator with 13 features.\n",
      "Fitting estimator with 12 features.\n",
      "Fitting estimator with 11 features.\n",
      "Fitting estimator with 10 features.\n",
      "Fitting estimator with 9 features.\n",
      "Fitting estimator with 8 features.\n",
      "Fitting estimator with 7 features.\n",
      "Fitting estimator with 6 features.\n",
      "Fitting estimator with 5 features.\n",
      "Fitting estimator with 4 features.\n",
      "Fitting estimator with 3 features.\n"
     ]
    },
    {
     "data": {
      "text/plain": [
       "RFECV(cv=5, estimator=SVC(kernel='linear'), scoring='accuracy', verbose=2)"
      ]
     },
     "execution_count": 6,
     "metadata": {},
     "output_type": "execute_result"
    }
   ],
   "source": [
    "# feature selection\n",
    "from sklearn.svm import SVC\n",
    "from sklearn.feature_selection import RFECV, RFE\n",
    "\n",
    "svc = SVC(kernel='linear')\n",
    "rfecv2 = RFECV(estimator=svc, step=1, cv=5, scoring='accuracy', verbose=2)\n",
    "rfecv2.fit(train_data_X, train_data_y)\n"
   ]
  },
  {
   "cell_type": "code",
   "execution_count": 11,
   "metadata": {},
   "outputs": [
    {
     "name": "stdout",
     "output_type": "stream",
     "text": [
      "2\n",
      "optimial number of features : 2\n"
     ]
    },
    {
     "data": {
      "text/plain": [
       "[<matplotlib.lines.Line2D at 0x23d700cf790>]"
      ]
     },
     "execution_count": 11,
     "metadata": {},
     "output_type": "execute_result"
    },
    {
     "data": {
      "image/png": "[encoded data removed]",
      "text/plain": [
       "<Figure size 432x288 with 1 Axes>"
      ]
     },
     "metadata": {
      "needs_background": "light"
     },
     "output_type": "display_data"
    }
   ],
   "source": [
    "import matplotlib.pyplot as plt\n",
    "print(rfecv2.support_.sum())\n",
    "\n",
    "print('optimial number of features : %d' % rfecv2.n_features_)\n",
    "\n",
    "plt.figure()\n",
    "plt.xlabel(\"number of features selected\")\n",
    "plt.ylabel(\"cross validation score (accuracy)\")\n",
    "plt.plot(\n",
    "range(1, len(rfecv2.grid_scores_)*1 + 1, 1), rfecv2.grid_scores_,\n",
    ")"
   ]
  },
  {
   "cell_type": "code",
   "execution_count": 13,
   "metadata": {},
   "outputs": [
    {
     "name": "stdout",
     "output_type": "stream",
     "text": [
      "all_features :  44\n",
      "['T1_lp1_MIN' 'T1_lp1_MAX' 'T2_hp1_MIN' 'T2_hp1_MAX' 'T3_hp2_MIN'\n",
      " 'T3_hp2_MAX' 'T1_comp in_MIN' 'T1_comp in_MAX' 'T2_comp out_MIN'\n",
      " 'T2_comp out_MAX' 'T3_cond in_MIN' 'T3_cond in_MAX' 'T4_cond out_MIN'\n",
      " 'T4_cond out_MAX' 'T5_Exp in_MIN' 'T5_Exp in_MAX' 'T6_Exp out_MIN'\n",
      " 'T6_Exp out_MAX' 'T7_evap in_MIN' 'T7_evap in_MAX' 'T8_evap out1_MIN'\n",
      " 'T8_evap out1_MAX' 'T8_evap out2_MIN' 'T8_evap out2_MAX'\n",
      " 'T10_sol out_MIN' 'T10_sol out_MAX' 'inside temp_MIN' 'inside temp_MAX'\n",
      " 'center_MIN' 'center_MAX' 'outside temp_MIN' 'outside temp_MAX'\n",
      " 'eva air in temp_MIN' 'eva air in temp_MAX' 'eva air out temp_MIN'\n",
      " 'eva air out temp_MAX' 'cond air in temp_MIN' 'cond air in temp_MAX'\n",
      " 'cond air out temp_MIN' 'cond air out temp_MAX' 'T8_1-T7_MIN'\n",
      " 'T8_1-T7_MAX' 'T8_2-T7_MIN' 'T8_2-T7_MAX']\n",
      "\n",
      "Selected best :  2\n",
      "['center_MAX' 'eva air in temp_MIN']\n"
     ]
    }
   ],
   "source": [
    "import numpy as np\n",
    "mask2 = rfecv2.get_support()\n",
    "features = np.array(train_data_X.columns)\n",
    "best_features2 = features[mask2]\n",
    "\n",
    "print('all_features : ', train_data_X.shape[1])\n",
    "print(features)\n",
    "print()\n",
    "print('Selected best : ', best_features2.shape[0])\n",
    "print(features[mask2])"
   ]
  },
  {
   "cell_type": "code",
   "execution_count": 24,
   "metadata": {},
   "outputs": [
    {
     "name": "stdout",
     "output_type": "stream",
     "text": [
      "0.983794\n"
     ]
    }
   ],
   "source": [
    "#선택된 피처로 학습 후 결과\n",
    "\n",
    "ssvm_train_X = train_data_X.loc[:,['center_MAX', 'eva air in temp_MIN']]\n",
    "ssvm_test_X = test_data_X.loc[:,['center_MAX', 'eva air in temp_MIN']]\n",
    "selected_svc = SVC(kernel='linear')\n",
    "selected_svc.fit(ssvm_train_X, train_data_y)\n",
    "pred_for_ssvc = selected_svc.predict(ssvm_test_X )\n",
    "saccuracy2 = accuracy_score(test_data_y, pred_for_ssvc)\n",
    "print('{:4f}'.format(saccuracy2))"
   ]
  },
  {
   "cell_type": "code",
   "execution_count": 26,
   "metadata": {},
   "outputs": [
    {
     "name": "stdout",
     "output_type": "stream",
     "text": [
      "0.989713\n"
     ]
    }
   ],
   "source": [
    "#선택된 피처로 학습 후 결과 rbf 커널 사용\n",
    "ssvm_train_X = train_data_X.loc[:,['center_MAX', 'eva air in temp_MIN']]\n",
    "ssvm_test_X = test_data_X.loc[:,['center_MAX', 'eva air in temp_MIN']]\n",
    "selected_svc2 = SVC(kernel='rbf')\n",
    "selected_svc2.fit(ssvm_train_X, train_data_y)\n",
    "pred_for_ssvc2 = selected_svc2.predict(ssvm_test_X )\n",
    "saccuracy3 = accuracy_score(test_data_y, pred_for_ssvc2)\n",
    "print('{:4f}'.format(saccuracy3))"
   ]
  },
  {
   "cell_type": "code",
   "execution_count": 29,
   "metadata": {},
   "outputs": [
    {
     "name": "stdout",
     "output_type": "stream",
     "text": [
      "0.991834\n"
     ]
    }
   ],
   "source": [
    "#회사에서 언급한 것들로 학습 후 결과 rbf 커널 사용\n",
    "ssvm_X_com = train_data_X.loc[:,['T7_evap in_MIN', 'T7_evap in_MAX', 'T8_evap out1_MIN', 'T8_evap out1_MAX', \n",
    "                                 'T8_evap out2_MIN', 'T8_evap out2_MAX']]\n",
    "ssvm_x_com= test_data_X.loc[:,['T7_evap in_MIN', 'T7_evap in_MAX', 'T8_evap out1_MIN', 'T8_evap out1_MAX', \n",
    "                                 'T8_evap out2_MIN', 'T8_evap out2_MAX']]\n",
    "selected_svc3 = SVC(kernel='rbf')\n",
    "selected_svc3.fit(ssvm_X_com, train_data_y)\n",
    "pred_for_ssvc3 = selected_svc3.predict(ssvm_x_com)\n",
    "saccuracy4 = accuracy_score(test_data_y, pred_for_ssvc3)\n",
    "print('{:4f}'.format(saccuracy4))"
   ]
  },
  {
   "cell_type": "code",
   "execution_count": 31,
   "metadata": {},
   "outputs": [
    {
     "name": "stdout",
     "output_type": "stream",
     "text": [
      "0.990789\n"
     ]
    }
   ],
   "source": [
    "#회사에서 언급한 것들로 학습 후 결과 rbf 커널 사용, 차 사용\n",
    "ssvm_X_com2 = train_data_X.loc[:,['T7_evap in_MIN', 'T7_evap in_MAX', 'T8_evap out1_MIN', 'T8_evap out1_MAX', \n",
    "                                 'T8_evap out2_MIN', 'T8_evap out2_MAX', 'T8_1-T7_MIN', 'T8_1-T7_MAX', 'T8_2-T7_MIN', 'T8_2-T7_MAX']]\n",
    "ssvm_x_com2= test_data_X.loc[:,['T7_evap in_MIN', 'T7_evap in_MAX', 'T8_evap out1_MIN', 'T8_evap out1_MAX', \n",
    "                                 'T8_evap out2_MIN', 'T8_evap out2_MAX', 'T8_1-T7_MIN', 'T8_1-T7_MAX', 'T8_2-T7_MIN', 'T8_2-T7_MAX']]\n",
    "selected_svc4 = SVC(kernel='rbf')\n",
    "selected_svc4.fit(ssvm_X_com2, train_data_y)\n",
    "pred_for_ssvc4 = selected_svc4.predict(ssvm_x_com2)\n",
    "saccuracy5 = accuracy_score(test_data_y, pred_for_ssvc4)\n",
    "print('{:4f}'.format(saccuracy5))"
   ]
  },
  {
   "cell_type": "code",
   "execution_count": 66,
   "metadata": {},
   "outputs": [
    {
     "name": "stdout",
     "output_type": "stream",
     "text": [
      "0.995157\n"
     ]
    }
   ],
   "source": [
    "#회사에서 언급한 것들로 학습 후 결과 rbf 커널 사용, 차 사용\n",
    "ssvm_X_com2 = train_data_X.loc[:,['T7_evap in_MIN', 'T7_evap in_MAX', 'T8_evap out1_MIN', 'T8_evap out1_MAX', \n",
    "                                 'T8_evap out2_MIN', 'T8_evap out2_MAX', 'T8_1-T7_MIN', 'T8_1-T7_MAX', 'T8_2-T7_MIN', 'T8_2-T7_MAX'\n",
    "                                 , 'inside temp_MIN', 'inside temp_MAX']]\n",
    "ssvm_x_com2= test_data_X.loc[:,['T7_evap in_MIN', 'T7_evap in_MAX', 'T8_evap out1_MIN', 'T8_evap out1_MAX', \n",
    "                                 'T8_evap out2_MIN', 'T8_evap out2_MAX', 'T8_1-T7_MIN', 'T8_1-T7_MAX', 'T8_2-T7_MIN', 'T8_2-T7_MAX'\n",
    "                               ,'inside temp_MIN', 'inside temp_MAX']]\n",
    "selected_svc4 = SVC(kernel='rbf')\n",
    "selected_svc4.fit(ssvm_X_com2, train_data_y)\n",
    "pred_for_ssvc4 = selected_svc4.predict(ssvm_x_com2)\n",
    "saccuracy5 = accuracy_score(test_data_y, pred_for_ssvc4)\n",
    "print('{:4f}'.format(saccuracy5))"
   ]
  },
  {
   "cell_type": "code",
   "execution_count": 43,
   "metadata": {},
   "outputs": [
    {
     "name": "stdout",
     "output_type": "stream",
     "text": [
      "0.994936\n"
     ]
    }
   ],
   "source": [
    "#회사에서 언급한 것들로 학습 후 결과 rbf 커널 사용, 차 사용\n",
    "ssvm_X_com2 = train_data_X.loc[:,['T8_1-T7_MIN', 'T8_1-T7_MAX', 'T8_2-T7_MIN', 'T8_2-T7_MAX','inside temp_MIN', 'inside temp_MAX']]\n",
    "ssvm_x_com2= test_data_X.loc[:,['T8_1-T7_MIN', 'T8_1-T7_MAX', 'T8_2-T7_MIN', 'T8_2-T7_MAX','inside temp_MIN', 'inside temp_MAX']]\n",
    "selected_svc4 = SVC(kernel='rbf')\n",
    "selected_svc4.fit(ssvm_X_com2, train_data_y)\n",
    "pred_for_ssvc4 = selected_svc4.predict(ssvm_x_com2)\n",
    "saccuracy5 = accuracy_score(test_data_y, pred_for_ssvc4)\n",
    "print('{:4f}'.format(saccuracy5))"
   ]
  },
  {
   "cell_type": "code",
   "execution_count": 44,
   "metadata": {},
   "outputs": [
    {
     "name": "stdout",
     "output_type": "stream",
     "text": [
      "0.980819\n"
     ]
    }
   ],
   "source": [
    "#회사에서 언급한 것들로 학습 후 결과 rbf 커널 사용, 차 사용\n",
    "ssvm_X_com2 = train_data_X.loc[:,['T8_1-T7_MIN', 'T8_1-T7_MAX', 'T8_2-T7_MIN', 'T8_2-T7_MAX']]\n",
    "ssvm_x_com2= test_data_X.loc[:,['T8_1-T7_MIN', 'T8_1-T7_MAX', 'T8_2-T7_MIN', 'T8_2-T7_MAX']]\n",
    "selected_svc4 = SVC(kernel='rbf')\n",
    "selected_svc4.fit(ssvm_X_com2, train_data_y)\n",
    "pred_for_ssvc4 = selected_svc4.predict(ssvm_x_com2)\n",
    "saccuracy5 = accuracy_score(test_data_y, pred_for_ssvc4)\n",
    "print('{:4f}'.format(saccuracy5))"
   ]
  },
  {
   "cell_type": "code",
   "execution_count": 34,
   "metadata": {},
   "outputs": [
    {
     "name": "stdout",
     "output_type": "stream",
     "text": [
      "0.995600\n"
     ]
    }
   ],
   "source": [
    "#회사에서 언급한 것들로 학습 후 결과 rbf 커널 사용\n",
    "ssvm_X_com = train_data_X.loc[:,['T7_evap in_MIN', 'T7_evap in_MAX', 'T8_evap out1_MIN', 'T8_evap out1_MAX', \n",
    "                                 'T8_evap out2_MIN', 'T8_evap out2_MAX', 'inside temp_MIN', 'inside temp_MAX']]\n",
    "ssvm_x_com= test_data_X.loc[:,['T7_evap in_MIN', 'T7_evap in_MAX', 'T8_evap out1_MIN', 'T8_evap out1_MAX', \n",
    "                                 'T8_evap out2_MIN', 'T8_evap out2_MAX', 'inside temp_MIN', 'inside temp_MAX']]\n",
    "selected_svc3 = SVC(kernel='rbf')\n",
    "selected_svc3.fit(ssvm_X_com, train_data_y)\n",
    "pred_for_ssvc3 = selected_svc3.predict(ssvm_x_com)\n",
    "saccuracy4 = accuracy_score(test_data_y, pred_for_ssvc3)\n",
    "print('{:4f}'.format(saccuracy4))"
   ]
  },
  {
   "cell_type": "code",
   "execution_count": 35,
   "metadata": {},
   "outputs": [
    {
     "name": "stdout",
     "output_type": "stream",
     "text": [
      "0.995727\n"
     ]
    }
   ],
   "source": [
    "#회사에서 언급한 것들 (min) 학습 후 결과 rbf 커널 사용\n",
    "ssvm_X_com = train_data_X.loc[:,['T7_evap in_MIN', 'T8_evap out1_MIN', \n",
    "                                 'T8_evap out2_MIN', 'inside temp_MIN' ]]\n",
    "ssvm_x_com= test_data_X.loc[:,['T7_evap in_MIN', 'T8_evap out1_MIN',  \n",
    "                                 'T8_evap out2_MIN',  'inside temp_MIN']]\n",
    "selected_svc3 = SVC(kernel='rbf')\n",
    "selected_svc3.fit(ssvm_X_com, train_data_y)\n",
    "pred_for_ssvc3 = selected_svc3.predict(ssvm_x_com)\n",
    "saccuracy4 = accuracy_score(test_data_y, pred_for_ssvc3)\n",
    "print('{:4f}'.format(saccuracy4))"
   ]
  },
  {
   "cell_type": "code",
   "execution_count": 36,
   "metadata": {},
   "outputs": [
    {
     "name": "stdout",
     "output_type": "stream",
     "text": [
      "0.995569\n"
     ]
    }
   ],
   "source": [
    "#회사에서 언급한 것들 (max)학습 후 결과 rbf 커널 사용\n",
    "ssvm_X_com = train_data_X.loc[:,['T7_evap in_MAX', 'T8_evap out1_MAX', \n",
    "                                  'T8_evap out2_MAX', 'inside temp_MAX']]\n",
    "ssvm_x_com= test_data_X.loc[:,['T7_evap in_MAX', 'T8_evap out1_MAX', \n",
    "                                  'T8_evap out2_MAX', 'inside temp_MAX']]\n",
    "selected_svc3 = SVC(kernel='rbf')\n",
    "selected_svc3.fit(ssvm_X_com, train_data_y)\n",
    "pred_for_ssvc3 = selected_svc3.predict(ssvm_x_com)\n",
    "saccuracy4 = accuracy_score(test_data_y, pred_for_ssvc3)\n",
    "print('{:4f}'.format(saccuracy4))"
   ]
  },
  {
   "cell_type": "code",
   "execution_count": 37,
   "metadata": {},
   "outputs": [
    {
     "name": "stdout",
     "output_type": "stream",
     "text": [
      "0.995854\n"
     ]
    }
   ],
   "source": [
    "#회사에서 언급한 것들(출구 센서 1번만 사용) 학습 후 결과 rbf 커널 사용\n",
    "ssvm_X_com = train_data_X.loc[:,['T7_evap in_MIN', 'T7_evap in_MAX', 'T8_evap out1_MIN', 'T8_evap out1_MAX', \n",
    "                                  'inside temp_MIN', 'inside temp_MAX']]\n",
    "ssvm_x_com= test_data_X.loc[:,['T7_evap in_MIN', 'T7_evap in_MAX', 'T8_evap out1_MIN', 'T8_evap out1_MAX', \n",
    "                                 'inside temp_MIN', 'inside temp_MAX']]\n",
    "selected_svc3 = SVC(kernel='rbf')\n",
    "selected_svc3.fit(ssvm_X_com, train_data_y)\n",
    "pred_for_ssvc3 = selected_svc3.predict(ssvm_x_com)\n",
    "saccuracy4 = accuracy_score(test_data_y, pred_for_ssvc3)\n",
    "print('{:4f}'.format(saccuracy4))"
   ]
  },
  {
   "cell_type": "code",
   "execution_count": 67,
   "metadata": {},
   "outputs": [
    {
     "name": "stdout",
     "output_type": "stream",
     "text": [
      "0.995379\n"
     ]
    }
   ],
   "source": [
    "#회사에서 언급한 것들(출구 센서 1번만 사용) 학습 후 결과 rbf 커널 사용\n",
    "ssvm_X_com = train_data_X.loc[:,['T7_evap in_MIN', 'T7_evap in_MAX', 'T8_evap out1_MIN', 'T8_evap out1_MAX', \n",
    "                                 'T8_1-T7_MIN', 'T8_1-T7_MAX','inside temp_MIN', 'inside temp_MAX']]\n",
    "ssvm_x_com= test_data_X.loc[:,['T7_evap in_MIN', 'T7_evap in_MAX', 'T8_evap out1_MIN', 'T8_evap out1_MAX', \n",
    "                                 'T8_1-T7_MIN', 'T8_1-T7_MAX','inside temp_MIN', 'inside temp_MAX']]\n",
    "selected_svc3 = SVC(kernel='rbf')\n",
    "selected_svc3.fit(ssvm_X_com, train_data_y)\n",
    "pred_for_ssvc3 = selected_svc3.predict(ssvm_x_com)\n",
    "saccuracy4 = accuracy_score(test_data_y, pred_for_ssvc3)\n",
    "print('{:4f}'.format(saccuracy4))"
   ]
  },
  {
   "cell_type": "code",
   "execution_count": 38,
   "metadata": {},
   "outputs": [
    {
     "name": "stdout",
     "output_type": "stream",
     "text": [
      "0.995632\n"
     ]
    }
   ],
   "source": [
    "#회사에서 언급한 것들(출구센서 2번만 사용) 학습 후 결과 rdf 사용\n",
    "ssvm_X_com = train_data_X.loc[:,['T7_evap in_MIN', 'T7_evap in_MAX',  \n",
    "                                 'T8_evap out2_MIN', 'T8_evap out2_MAX', 'inside temp_MIN', 'inside temp_MAX']]\n",
    "ssvm_x_com= test_data_X.loc[:,['T7_evap in_MIN', 'T7_evap in_MAX',\n",
    "                                 'T8_evap out2_MIN', 'T8_evap out2_MAX', 'inside temp_MIN', 'inside temp_MAX']]\n",
    "selected_svc3 = SVC(kernel='rbf')\n",
    "selected_svc3.fit(ssvm_X_com, train_data_y)\n",
    "pred_for_ssvc3 = selected_svc3.predict(ssvm_x_com)\n",
    "saccuracy4 = accuracy_score(test_data_y, pred_for_ssvc3)\n",
    "print('{:4f}'.format(saccuracy4))"
   ]
  },
  {
   "cell_type": "code",
   "execution_count": 39,
   "metadata": {},
   "outputs": [
    {
     "name": "stdout",
     "output_type": "stream",
     "text": [
      "0.995949\n"
     ]
    }
   ],
   "source": [
    "#회사에서 언급한 것들(출구 센서 1번만 사용, min) 학습 후 결과 rbf 커널 사용\n",
    "ssvm_X_com = train_data_X.loc[:,['T7_evap in_MIN', 'T8_evap out1_MIN',  \n",
    "                                  'inside temp_MIN' ]]\n",
    "ssvm_x_com= test_data_X.loc[:,['T7_evap in_MIN', 'T8_evap out1_MIN', \n",
    "                                 'inside temp_MIN']]\n",
    "selected_svc3 = SVC(kernel='rbf')\n",
    "selected_svc3.fit(ssvm_X_com, train_data_y)\n",
    "pred_for_ssvc3 = selected_svc3.predict(ssvm_x_com)\n",
    "saccuracy4 = accuracy_score(test_data_y, pred_for_ssvc3)\n",
    "print('{:4f}'.format(saccuracy4))"
   ]
  },
  {
   "cell_type": "code",
   "execution_count": 58,
   "metadata": {},
   "outputs": [
    {
     "name": "stdout",
     "output_type": "stream",
     "text": [
      "0.847313\n"
     ]
    }
   ],
   "source": [
    "#회사에서 언급한 것들로 학습 후 결과 rbf 커널 사용, 차 사용\n",
    "ssvm_X_com2 = train_data_X.loc[:,['T7_evap in_MIN', 'T7_evap in_MAX']]\n",
    "ssvm_x_com2= test_data_X.loc[:,['T7_evap in_MIN', 'T7_evap in_MAX']]\n",
    "selected_svc4 = SVC(kernel='rbf')\n",
    "selected_svc4.fit(ssvm_X_com2, train_data_y)\n",
    "pred_for_ssvc4 = selected_svc4.predict(ssvm_x_com2)\n",
    "saccuracy5 = accuracy_score(test_data_y, pred_for_ssvc4)\n",
    "print('{:4f}'.format(saccuracy5))"
   ]
  },
  {
   "cell_type": "code",
   "execution_count": 59,
   "metadata": {},
   "outputs": [
    {
     "name": "stdout",
     "output_type": "stream",
     "text": [
      "0.769482\n"
     ]
    }
   ],
   "source": [
    "#회사에서 언급한 것들로 학습 후 결과 rbf 커널 사용, 차 사용\n",
    "ssvm_X_com2 = train_data_X.loc[:,['T8_evap out1_MIN', 'T8_evap out1_MAX', \n",
    "                                 ]]\n",
    "ssvm_x_com2= test_data_X.loc[:,['T8_evap out1_MIN', 'T8_evap out1_MAX', \n",
    "                                 ]]\n",
    "selected_svc4 = SVC(kernel='rbf')\n",
    "selected_svc4.fit(ssvm_X_com2, train_data_y)\n",
    "pred_for_ssvc4 = selected_svc4.predict(ssvm_x_com2)\n",
    "saccuracy5 = accuracy_score(test_data_y, pred_for_ssvc4)\n",
    "print('{:4f}'.format(saccuracy5))"
   ]
  },
  {
   "cell_type": "code",
   "execution_count": 60,
   "metadata": {},
   "outputs": [
    {
     "name": "stdout",
     "output_type": "stream",
     "text": [
      "0.821612\n"
     ]
    }
   ],
   "source": [
    "#회사에서 언급한 것들로 학습 후 결과 rbf 커널 사용, 차 사용\n",
    "ssvm_X_com2 = train_data_X.loc[:,[\n",
    "                                 'T8_evap out2_MIN', 'T8_evap out2_MAX']]\n",
    "ssvm_x_com2= test_data_X.loc[:,[\n",
    "                                 'T8_evap out2_MIN', 'T8_evap out2_MAX']]\n",
    "selected_svc4 = SVC(kernel='rbf')\n",
    "selected_svc4.fit(ssvm_X_com2, train_data_y)\n",
    "pred_for_ssvc4 = selected_svc4.predict(ssvm_x_com2)\n",
    "saccuracy5 = accuracy_score(test_data_y, pred_for_ssvc4)\n",
    "print('{:4f}'.format(saccuracy5))"
   ]
  },
  {
   "cell_type": "code",
   "execution_count": 61,
   "metadata": {},
   "outputs": [
    {
     "name": "stdout",
     "output_type": "stream",
     "text": [
      "0.782775\n"
     ]
    }
   ],
   "source": [
    "#회사에서 언급한 것들로 학습 후 결과 rbf 커널 사용, 차 사용\n",
    "ssvm_X_com2 = train_data_X.loc[:,['T8_1-T7_MIN', 'T8_1-T7_MAX',]]\n",
    "ssvm_x_com2= test_data_X.loc[:,['T8_1-T7_MIN', 'T8_1-T7_MAX']]\n",
    "selected_svc4 = SVC(kernel='rbf')\n",
    "selected_svc4.fit(ssvm_X_com2, train_data_y)\n",
    "pred_for_ssvc4 = selected_svc4.predict(ssvm_x_com2)\n",
    "saccuracy5 = accuracy_score(test_data_y, pred_for_ssvc4)\n",
    "print('{:4f}'.format(saccuracy5))"
   ]
  },
  {
   "cell_type": "code",
   "execution_count": 62,
   "metadata": {},
   "outputs": [
    {
     "name": "stdout",
     "output_type": "stream",
     "text": [
      "0.922105\n"
     ]
    }
   ],
   "source": [
    "#회사에서 언급한 것들로 학습 후 결과 rbf 커널 사용, 차 사용\n",
    "ssvm_X_com2 = train_data_X.loc[:,['T8_2-T7_MIN', 'T8_2-T7_MAX']]\n",
    "ssvm_x_com2= test_data_X.loc[:,['T8_2-T7_MIN', 'T8_2-T7_MAX']]\n",
    "selected_svc4 = SVC(kernel='rbf')\n",
    "selected_svc4.fit(ssvm_X_com2, train_data_y)\n",
    "pred_for_ssvc4 = selected_svc4.predict(ssvm_x_com2)\n",
    "saccuracy5 = accuracy_score(test_data_y, pred_for_ssvc4)\n",
    "print('{:4f}'.format(saccuracy5))"
   ]
  },
  {
   "cell_type": "code",
   "execution_count": 63,
   "metadata": {},
   "outputs": [
    {
     "name": "stdout",
     "output_type": "stream",
     "text": [
      "0.939767\n"
     ]
    }
   ],
   "source": [
    "#회사에서 언급한 것들로 학습 후 결과 rbf 커널 사용, 차 사용\n",
    "ssvm_X_com2 = train_data_X.loc[:,['inside temp_MIN', 'inside temp_MAX']]\n",
    "ssvm_x_com2= test_data_X.loc[:,['inside temp_MIN', 'inside temp_MAX']]\n",
    "selected_svc4 = SVC(kernel='rbf')\n",
    "selected_svc4.fit(ssvm_X_com2, train_data_y)\n",
    "pred_for_ssvc4 = selected_svc4.predict(ssvm_x_com2)\n",
    "saccuracy5 = accuracy_score(test_data_y, pred_for_ssvc4)\n",
    "print('{:4f}'.format(saccuracy5))"
   ]
  },
  {
   "cell_type": "markdown",
   "metadata": {},
   "source": [
    "svm 은 센서를 사용할 때, 회사에서 언급한 센서 (입출구 센서, 고내온도, 입출구 차이)를 사용할 때, min 값을 사용하면 성능이 올라감\n",
    "\n",
    "만약 min, max를 다 같이 사용할 경우, 출구 센서 1번만 사용하는 것이 더 유리함\n",
    "\n",
    "출구 센서 1번만 사용하면서 min 값만 사용할 경우, 성능이 더 상승하는 것을 확인함\n"
   ]
  },
  {
   "cell_type": "code",
   "execution_count": null,
   "metadata": {},
   "outputs": [],
   "source": []
  }
 ],
 "metadata": {
  "kernelspec": {
   "display_name": "Python 3",
   "language": "python",
   "name": "python3"
  },
  "language_info": {
   "codemirror_mode": {
    "name": "ipython",
    "version": 3
   },
   "file_extension": ".py",
   "mimetype": "text/x-python",
   "name": "python",
   "nbconvert_exporter": "python",
   "pygments_lexer": "ipython3",
   "version": "3.8.5"
  }
 },
 "nbformat": 4,
 "nbformat_minor": 4
}
